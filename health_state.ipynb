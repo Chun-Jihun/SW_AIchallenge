{
 "cells": [
  {
   "cell_type": "code",
   "id": "initial_id",
   "metadata": {
    "collapsed": true,
    "ExecuteTime": {
     "end_time": "2024-08-17T06:55:52.328389Z",
     "start_time": "2024-08-17T06:55:52.320655Z"
    }
   },
   "source": [
    "import openai\n",
    "import os\n",
    "import pandas as pd\n",
    "import time\n",
    "from dotenv import load_dotenv\n",
    "from langchain_core.prompts import ChatPromptTemplate\n",
    "from langchain_core.output_parsers import StrOutputParser\n",
    "from langchain.vectorstores import FAISS\n",
    "from langchain.schema.runnable import RunnableLambda, RunnablePassthrough\n",
    "from langchain_community.document_loaders.csv_loader import CSVLoader\n",
    "from langchain.document_loaders import PyPDFLoader,TextLoader\n",
    "from langchain_openai import ChatOpenAI\n",
    "from langchain_openai import OpenAIEmbeddings\n",
    "from collections import defaultdict\n",
    "import json\n",
    "from langchain.text_splitter import CharacterTextSplitter\n",
    "from langchain_text_splitters import RecursiveJsonSplitter\n",
    "\n",
    "load_dotenv()\n",
    "OPENAI_API_KEY = os.getenv('OPENAI_API_KEY')\n",
    "LANGCHAIN_TRACING_V2 = os.getenv('LANGCHAIN_TRACING_V2')\n",
    "LANGCHAIN_ENDPOINT = os.getenv('LANGCHAIN_ENDPOINT')\n",
    "LANGCHAIN_API_KEY = os.getenv('LANGCHAIN_API_KEY')\n",
    "LANGCHAIN_PROJECT = os.getenv('LANGCHAIN_PROJECT')"
   ],
   "outputs": [],
   "execution_count": 61
  },
  {
   "metadata": {
    "ExecuteTime": {
     "end_time": "2024-08-17T05:50:16.561271Z",
     "start_time": "2024-08-17T05:50:15.537592Z"
    }
   },
   "cell_type": "code",
   "source": [
    "embedding_function = OpenAIEmbeddings()\n",
    "\n",
    "# Create the language model\n",
    "llm = ChatOpenAI(model='gpt-4o-mini', temperature=0.0)\n",
    "\n",
    "analysis_prompt = ChatPromptTemplate.from_messages(\n",
    "[\n",
    "    (\n",
    "    \"system\",\n",
    "    \"\"\"\n",
    "    You are a professional doctor. Based on the following context, provide a detailed analysis and comprehensive advice regarding the patient's condition. Only include the sections \"종합 분석\" and \"종합적인 조언\" in your response. Do not include headings or introductory/concluding sentences. Answer questions using only the provided context. If you do not know the answer, simply state that you do not know; do not speculate or make up information.:\\n\\n{context}\"\n",
    "     \"\"\",\n",
    "     ),\n",
    "    (\"human\", \"{question}\")\n",
    "    ]\n",
    ")"
   ],
   "id": "12f628a2c862104f",
   "outputs": [],
   "execution_count": 2
  },
  {
   "metadata": {
    "ExecuteTime": {
     "end_time": "2024-08-17T05:50:16.565239Z",
     "start_time": "2024-08-17T05:50:16.561271Z"
    }
   },
   "cell_type": "code",
   "source": [
    "def csv_files_to_json(file_paths, encoding='cp949'):\n",
    "    # Initialize a default dictionary to store dictionaries for each ID\n",
    "    json_data = defaultdict(lambda: defaultdict(list))\n",
    "    \n",
    "    # Iterate through each CSV file\n",
    "    for file_path in file_paths:\n",
    "        # Extract the file name without extension to use as a key\n",
    "        file_key = file_path.split('/')[-1].split('.')[0]\n",
    "        \n",
    "        # Read the CSV file into a DataFrame with cp949 encoding\n",
    "        df = pd.read_csv(file_path, encoding=encoding)\n",
    "        \n",
    "        # Group the data by 'id'\n",
    "        for id, group in df.groupby('id'):\n",
    "            # Convert the group data to a dictionary without the 'id' column\n",
    "            record = group.drop(columns=['id']).to_dict(orient='records')\n",
    "            # Append the record under the corresponding file name for the given id\n",
    "            json_data[str(id)][file_key].extend(record)\n",
    "    \n",
    "    # Convert the default dictionary to a regular dictionary and then to a JSON string\n",
    "    json_str = json.dumps(dict(json_data), indent=4)\n",
    "    \n",
    "    return json_str"
   ],
   "id": "518b5a5ffdf1c21d",
   "outputs": [],
   "execution_count": 3
  },
  {
   "metadata": {
    "ExecuteTime": {
     "end_time": "2024-08-17T05:50:17.334209Z",
     "start_time": "2024-08-17T05:50:17.331063Z"
    }
   },
   "cell_type": "code",
   "source": [
    "def format_docs(docs):\n",
    "    return \"\\n\\n\".join(document.page_content for document in docs)"
   ],
   "id": "655f1aea03fbdad6",
   "outputs": [],
   "execution_count": 4
  },
  {
   "metadata": {
    "ExecuteTime": {
     "end_time": "2024-08-17T06:19:12.441067Z",
     "start_time": "2024-08-17T06:19:12.434090Z"
    }
   },
   "cell_type": "code",
   "source": [
    "# 통합 응답을 생성하는 함수\n",
    "def DM_reponse(id, question):\n",
    "    # CSV 파일 경로\n",
    "    file_paths = ['./data/col_value_change/inbody.csv', './data/col_value_change/patients.csv', './data/col_value_change/vital.csv','./data/col_value_change/reports.csv']\n",
    "    \n",
    "       # CSV 파일을 JSON으로 변환하여 문자열 반환\n",
    "    json_str = csv_files_to_json(file_paths)\n",
    "    # JSON 문자열을 다시 딕셔너리로 변환\n",
    "    json_data = json.loads(json_str)\n",
    "    \n",
    "    # ID에 해당하는 데이터 가져오기\n",
    "    inbody_response = json_data.get(str(id), {}).get('inbody', [])\n",
    "    patients_response = json_data.get(str(id), {}).get('patients', [])\n",
    "    vital_response = json_data.get(str(id), {}).get('vital', [])\n",
    "    reports_resonse = json_data.get(str(id), {}).get('reports', [])\n",
    "    print(reports_resonse)\n",
    "\n",
    "    total_analysis = f\"\"\"\n",
    "    환자 정보 :\n",
    "    {patients_response}\n",
    "    \n",
    "    inbody 분석 : \n",
    "    {inbody_response}\n",
    "    \n",
    "    vital 분석 : \n",
    "    {vital_response}\n",
    "    \n",
    "    설문조사 분석 :\n",
    "    {reports_resonse} \n",
    "    \n",
    "    \"\"\"\n",
    "    splitter = CharacterTextSplitter.from_tiktoken_encoder(\n",
    "        separator=\"\\n\",\n",
    "        chunk_size=1000,\n",
    "        chunk_overlap=200,\n",
    "    )\n",
    "    loader = PyPDFLoader(\"./data/당뇨병_가이드라인.pdf\")\n",
    "    \n",
    "    docs = loader.load_and_split(text_splitter=splitter)\n",
    "    vectorstore = FAISS.from_documents(docs, embedding_function)\n",
    "    retriever = vectorstore.as_retriever()\n",
    "\n",
    "    \n",
    "    final_prompt = ChatPromptTemplate.from_messages([\n",
    "        (\"system\",\n",
    "        \"\"\"\n",
    "        너는 당뇨병 전문 의사야.\n",
    "        환자의 정보들을 기반으로 당뇨병에 대한 환자의 건강상태에 대해서 말해 가족 중에 당뇨병이 있는 사람도 있고 없는 사람도 있으니 해당 정보도 유심히 봐야 해.\n",
    "        내가 주는 docs 파일을 기반으로 이 환자에 특화적인 조언도 추가 해\n",
    "        이를 기반으로 아래처럼 말해라.\n",
    "        예시) ~ 환자는 가족 중에 당뇨병에 대한 이력이 ~ 하고 현재 환자는 당뇨병이 ~ 한 상태이다.\n",
    "        context: {context}\n",
    "        \"\"\"       \n",
    "        ),\n",
    "        (\"human\", \"{total_analysis}\")\n",
    "    ])\n",
    "\n",
    "    final_chain = (\n",
    "        {\n",
    "            \"context\": retriever | RunnableLambda(format_docs),\n",
    "            \"total_analysis\": RunnablePassthrough(),\n",
    "        }\n",
    "        | final_prompt\n",
    "        | llm\n",
    "        | StrOutputParser()\n",
    "    )\n",
    "    \n",
    "    response = final_chain.invoke(total_analysis)\n",
    "    return response"
   ],
   "id": "a941b3e26d69dfe2",
   "outputs": [],
   "execution_count": 47
  },
  {
   "metadata": {
    "ExecuteTime": {
     "end_time": "2024-08-17T06:19:22.431550Z",
     "start_time": "2024-08-17T06:19:13.719243Z"
    }
   },
   "cell_type": "code",
   "source": "print(DM_reponse(6,\"이 환자의 당뇨여부 알려줘\"))",
   "id": "9c46c2637ce9107c",
   "outputs": [
    {
     "name": "stdout",
     "output_type": "stream",
     "text": [
      "[{'측정일자': '2024-05-03', '환자부모_뇌졸중': '없음', '환자부모_심근경색': '없음', '환자부모_고혈압': '없음', '환자부모_당뇨병': '없음', '환자부모_기타(암_포함)': '없음', '환자_뇌졸중': '없음', '환자_심근경색': '있음', '환자_고혈압': '있음', '환자_당뇨병': '있음', '환자_COVID-19(감염횟수)': 0, '환자_기타(암_포함)': '없음', '실내운동': '안함', '실외운동': '함', '평소_즐겨하는_운동_종목': '헬스', '숨_많이_차는_고강도_운동_시행하는_일주일_기준_일수': '0일', '평균_하루_운동시간': '60분', '최근 1주일 동안 근력 운동한 일수': '3일', '흡연여부': '아니오', '과거_흡연_년수': 0, '금연_전_주간_흡연일수': '0일', '현재_흡연_년수': 0, '현재_흡연중이며_한_주_흡연량': '0일', '전자담배_사용여부': '사용한 적 없음', '전자담배_사용경험이_있으며_최근_한달_내_전자담배_사용여부': '사용한 적 없음', '가슴과_관련된_증상': '가슴이 답답합니다', '근력과_관련된_증상': '근력이 감소하였습니다', '기침과_관련된_증상': '해당 사항 없음', '두통과_관련된_증상': '해당 사항 없음', '소변과_관련된_증상': '평소에 소변을 자주 봅니다, 야간에 소변을 자주 봅니다', '식욕과_관련된_증상': '식욕이 없습니다', '심장과_관련된_증상': '가슴이 두근거립니다', '의식과_관련된_증상': '해당 사항 없음', '체중과_관련된_증상': '체중이 증가하였습니다', '열과_관련된_증상': '열이 조금 납니다', '피로감과_관련된_증상': '해당 사항 없음', '피부모양과_관련된_증상': '해당 사항 없음', '피부색과_관련된_증상': '해당 사항 없음', '호흡과_관련된_증상': '해당 사항 없음', '지난_1년간_음주_빈도': 'week 기준 2번', '지난_1년간_평균_음주량': '소주6잔', '지난_1년간_최대_음주량': '소주7잔'}]\n",
      "환자는 1946년생 남성으로, 현재 77세입니다. 환자의 가족 중에는 당뇨병 이력이 없으며, 본인 또한 당뇨병을 앓고 있습니다. 최근 혈당 수치는 127 mg/dL로, 공복 상태에서 측정된 결과입니다. 이는 공복혈당장애의 기준인 100-125 mg/dL를 초과하여 당뇨병 진단 기준에 해당합니다.\n",
      "\n",
      "환자의 체질량지수(BMI)는 23.7 kg/m²로 과체중 범위에 해당하며, 복부비만의 지표인 허리둘레/엉덩이둘레 비율은 0.94로, 남성의 경우 0.90 이상일 때 복부비만으로 간주됩니다. 또한, 환자는 고혈압을 앓고 있으며, 최근 혈압 수치는 156/83 mmHg로 나타났습니다. 이러한 여러 위험 인자들은 당뇨병의 진행 및 합병증 발생 가능성을 높일 수 있습니다.\n",
      "\n",
      "환자는 운동을 주 3회 정도 하며, 평균 하루 60분의 운동을 하고 있지만, 실내 운동은 하지 않고 있습니다. 식욕 감소와 체중 증가가 관찰되며, 가슴 두근거림과 같은 심장 관련 증상도 보고하고 있습니다. 이러한 증상들은 당뇨병 관리에 있어 주의가 필요함을 시사합니다.\n",
      "\n",
      "결론적으로, 환자는 가족 중 당뇨병 이력이 없으나 본인에게 당뇨병이 있으며, 고혈압과 복부비만 등의 위험 인자를 가지고 있어 지속적인 관리와 치료가 필요합니다.\n"
     ]
    }
   ],
   "execution_count": 48
  },
  {
   "metadata": {
    "ExecuteTime": {
     "end_time": "2024-08-17T06:28:43.558694Z",
     "start_time": "2024-08-17T06:28:43.551607Z"
    }
   },
   "cell_type": "code",
   "source": [
    "# 통합 응답을 생성하는 함수\n",
    "def HBP_reponse(id, question):\n",
    "    # CSV 파일 경로\n",
    "    file_paths = ['./data/col_value_change/inbody.csv', './data/col_value_change/patients.csv', './data/col_value_change/vital.csv','./data/col_value_change/reports.csv']\n",
    "    \n",
    "       # CSV 파일을 JSON으로 변환하여 문자열 반환\n",
    "    json_str = csv_files_to_json(file_paths)\n",
    "    # JSON 문자열을 다시 딕셔너리로 변환\n",
    "    json_data = json.loads(json_str)\n",
    "    \n",
    "    # ID에 해당하는 데이터 가져오기\n",
    "    inbody_response = json_data.get(str(id), {}).get('inbody', [])\n",
    "    patients_response = json_data.get(str(id), {}).get('patients', [])\n",
    "    vital_response = json_data.get(str(id), {}).get('vital', [])\n",
    "    reports_resonse = json_data.get(str(id), {}).get('reports', [])\n",
    "    # print(reports_resonse)\n",
    "    \n",
    "    total_analysis = f\"\"\"\n",
    "    환자 정보 :\n",
    "    {patients_response}\n",
    "    \n",
    "    inbody 분석 : \n",
    "    {inbody_response}\n",
    "    \n",
    "    vital 분석 : \n",
    "    {vital_response}\n",
    "    \n",
    "    설문조사 분석 :\n",
    "    {reports_resonse} \n",
    "    \n",
    "    \"\"\"\n",
    "    splitter = CharacterTextSplitter.from_tiktoken_encoder(\n",
    "        separator=\"\\n\",\n",
    "        chunk_size=1000,\n",
    "        chunk_overlap=200,\n",
    "    )\n",
    "    loader = PyPDFLoader(\"./data/고혈압_가이드라인.pdf\")\n",
    "    \n",
    "    docs = loader.load_and_split(text_splitter=splitter)\n",
    "    vectorstore = FAISS.from_documents(docs, embedding_function)\n",
    "    retriever = vectorstore.as_retriever()\n",
    "\n",
    "    \n",
    "    final_prompt = ChatPromptTemplate.from_messages([\n",
    "        (\"system\",\n",
    "        \"\"\"\n",
    "        너는 고혈압 전문 의사야.\n",
    "        환자의 정보들을 기반으로 고혈압에 대한 환자의 건강상태에 대해서 말해 가족 중에 고혈압이 있는 사람도 있고 없는 사람도 있으니 해당 정보도 유심히 봐야 해.\n",
    "        내가 주는 docs 파일을 기반으로 이 환자에 특화적인 조언도 추가 해\n",
    "        이를 기반으로 아래처럼 말해라.\n",
    "        예시) ~ 환자는 가족 중에 고혈압에 대한 이력이 ~ 하고 현재 환자는 고혈압이 ~ 한 상태이다.\n",
    "        context: {context}\n",
    "        \"\"\"       \n",
    "        ),\n",
    "        (\"human\", \"{total_analysis}\")\n",
    "    ])\n",
    "\n",
    "    final_chain = (\n",
    "        {\n",
    "            \"context\": retriever | RunnableLambda(format_docs),\n",
    "            \"total_analysis\": RunnablePassthrough(),\n",
    "        }\n",
    "        | final_prompt\n",
    "        | llm\n",
    "        | StrOutputParser()\n",
    "    )\n",
    "    \n",
    "    response = final_chain.invoke(total_analysis)\n",
    "    return response"
   ],
   "id": "c7c8b9d38e0ff3e2",
   "outputs": [],
   "execution_count": 51
  },
  {
   "metadata": {
    "ExecuteTime": {
     "end_time": "2024-08-17T06:28:56.543746Z",
     "start_time": "2024-08-17T06:28:44.840239Z"
    }
   },
   "cell_type": "code",
   "source": "print(HBP_reponse(6,\"이 환자의 고혈압여부 알려줘\"))",
   "id": "aebf0aaa7e3189a6",
   "outputs": [
    {
     "name": "stdout",
     "output_type": "stream",
     "text": [
      "[{'측정일자': '2024-05-03', '환자부모_뇌졸중': '없음', '환자부모_심근경색': '없음', '환자부모_고혈압': '없음', '환자부모_당뇨병': '없음', '환자부모_기타(암_포함)': '없음', '환자_뇌졸중': '없음', '환자_심근경색': '있음', '환자_고혈압': '있음', '환자_당뇨병': '있음', '환자_COVID-19(감염횟수)': 0, '환자_기타(암_포함)': '없음', '실내운동': '안함', '실외운동': '함', '평소_즐겨하는_운동_종목': '헬스', '숨_많이_차는_고강도_운동_시행하는_일주일_기준_일수': '0일', '평균_하루_운동시간': '60분', '최근 1주일 동안 근력 운동한 일수': '3일', '흡연여부': '아니오', '과거_흡연_년수': 0, '금연_전_주간_흡연일수': '0일', '현재_흡연_년수': 0, '현재_흡연중이며_한_주_흡연량': '0일', '전자담배_사용여부': '사용한 적 없음', '전자담배_사용경험이_있으며_최근_한달_내_전자담배_사용여부': '사용한 적 없음', '가슴과_관련된_증상': '가슴이 답답합니다', '근력과_관련된_증상': '근력이 감소하였습니다', '기침과_관련된_증상': '해당 사항 없음', '두통과_관련된_증상': '해당 사항 없음', '소변과_관련된_증상': '평소에 소변을 자주 봅니다, 야간에 소변을 자주 봅니다', '식욕과_관련된_증상': '식욕이 없습니다', '심장과_관련된_증상': '가슴이 두근거립니다', '의식과_관련된_증상': '해당 사항 없음', '체중과_관련된_증상': '체중이 증가하였습니다', '열과_관련된_증상': '열이 조금 납니다', '피로감과_관련된_증상': '해당 사항 없음', '피부모양과_관련된_증상': '해당 사항 없음', '피부색과_관련된_증상': '해당 사항 없음', '호흡과_관련된_증상': '해당 사항 없음', '지난_1년간_음주_빈도': 'week 기준 2번', '지난_1년간_평균_음주량': '소주6잔', '지난_1년간_최대_음주량': '소주7잔'}]\n",
      "환자는 1946년생 남성으로, 현재 고혈압을 앓고 있으며 혈압약을 복용하고 있다. 가족 중에는 고혈압 이력이 없으나, 본인은 심근경색과 고혈압의 병력이 있다. 최근 혈압 측정 결과는 수축기 혈압이 156 mmHg에서 137 mmHg로 감소하였고, 이완기 혈압은 83 mmHg에서 73 mmHg로 감소하였다. 이는 약물 치료의 효과를 나타내는 긍정적인 변화로 볼 수 있다.\n",
      "\n",
      "환자의 체중은 67.8 kg에서 66.9 kg으로 감소하였고, 체질량지수(BMI)는 23.7에서 23.9로 약간 증가하였다. 체지방률은 26.5%에서 27.9%로 증가하였으며, 복부지방률도 증가하는 경향을 보인다. 이러한 변화는 고혈압 관리에 있어 주의가 필요할 수 있다.\n",
      "\n",
      "환자는 운동을 주 3회 근력 운동을 하고 있으며, 평균 하루 운동시간은 60분으로 적절한 수준이다. 그러나 가슴이 답답하고 두근거림, 근력 감소 등의 증상이 나타나고 있어, 이러한 증상에 대한 추가적인 평가가 필요하다. \n",
      "\n",
      "결론적으로, 환자는 고혈압 관리에 있어 약물 치료와 운동을 병행하고 있으나, 체지방률 증가와 관련된 증상에 대한 모니터링이 필요하다. 지속적인 혈압 관리와 생활습관 개선이 중요하다.\n"
     ]
    }
   ],
   "execution_count": 52
  },
  {
   "metadata": {
    "ExecuteTime": {
     "end_time": "2024-08-17T06:45:17.613729Z",
     "start_time": "2024-08-17T06:45:17.606823Z"
    }
   },
   "cell_type": "code",
   "source": [
    "# 통합 응답을 생성하는 함수\n",
    "def HD_reponse(id, question):\n",
    "    # CSV 파일 경로\n",
    "    file_paths = ['./data/col_value_change/inbody.csv', './data/col_value_change/patients.csv', './data/col_value_change/vital.csv','./data/col_value_change/reports.csv']\n",
    "    \n",
    "       # CSV 파일을 JSON으로 변환하여 문자열 반환\n",
    "    json_str = csv_files_to_json(file_paths)\n",
    "    # JSON 문자열을 다시 딕셔너리로 변환\n",
    "    json_data = json.loads(json_str)\n",
    "    \n",
    "    # ID에 해당하는 데이터 가져오기\n",
    "    inbody_response = json_data.get(str(id), {}).get('inbody', [])\n",
    "    patients_response = json_data.get(str(id), {}).get('patients', [])\n",
    "    vital_response = json_data.get(str(id), {}).get('vital', [])\n",
    "    reports_resonse = json_data.get(str(id), {}).get('reports', [])\n",
    "    # print(reports_resonse)\n",
    "    \n",
    "    total_analysis = f\"\"\"\n",
    "    환자 정보 :\n",
    "    {patients_response}\n",
    "    \n",
    "    inbody 분석 : \n",
    "    {inbody_response}\n",
    "    \n",
    "    vital 분석 : \n",
    "    {vital_response}\n",
    "    \n",
    "    설문조사 분석 :\n",
    "    {reports_resonse} \n",
    "    \n",
    "    \"\"\"\n",
    "    splitter = CharacterTextSplitter.from_tiktoken_encoder(\n",
    "        separator=\"\\n\",\n",
    "        chunk_size=1000,\n",
    "        chunk_overlap=200,\n",
    "    )\n",
    "    # loader = PyPDFLoader(\"./data/심부전_가이드라인.pdf\")\n",
    "    # \n",
    "    # docs = loader.load_and_split(text_splitter=splitter)\n",
    "      # 첫 번째 PDF 파일 로드\n",
    "    loader1 = PyPDFLoader(\"./data/심부전_가이드라인.pdf\")\n",
    "    docs1 = loader1.load_and_split(text_splitter=splitter)\n",
    "    \n",
    "    # 두 번째 PDF 파일 로드\n",
    "    loader2 = PyPDFLoader(\"./data/심장질환_가이드라인.pdf\")\n",
    "    docs2 = loader2.load_and_split(text_splitter=splitter)\n",
    "    \n",
    "    # 두 개의 문서를 합치기\n",
    "    docs = docs1 + docs2\n",
    "    vectorstore = FAISS.from_documents(docs, embedding_function)\n",
    "    retriever = vectorstore.as_retriever()\n",
    "\n",
    "    \n",
    "    final_prompt = ChatPromptTemplate.from_messages([\n",
    "        (\"system\",\n",
    "        \"\"\"\n",
    "        너는 심장질환 전문 의사야.\n",
    "        환자의 정보들을 기반으로 심장질환에 대한 환자의 건강상태에 대해서 말해 가족 중에 심장질환이 있는 사람도 있고 없는 사람도 있으니 해당 정보도 유심히 봐야 해.\n",
    "        내가 주는 docs 파일을 기반으로 이 환자에 특화적인 조언도 추가 해\n",
    "        이를 기반으로 아래처럼 말해라.\n",
    "        예시) ~ 환자는 가족 중에 심장질환에 대한 이력이 ~ 하고 현재 환자는 심장질환이 ~ 한 상태이다.\n",
    "        context: {context}\n",
    "        \"\"\"       \n",
    "        ),\n",
    "        (\"human\", \"{total_analysis}\")\n",
    "    ])\n",
    "\n",
    "    final_chain = (\n",
    "        {\n",
    "            \"context\": retriever | RunnableLambda(format_docs),\n",
    "            \"total_analysis\": RunnablePassthrough(),\n",
    "        }\n",
    "        | final_prompt\n",
    "        | llm\n",
    "        | StrOutputParser()\n",
    "    )\n",
    "    \n",
    "    response = final_chain.invoke(total_analysis)\n",
    "    return response"
   ],
   "id": "207f0f6af6f3da",
   "outputs": [],
   "execution_count": 59
  },
  {
   "metadata": {
    "ExecuteTime": {
     "end_time": "2024-08-17T06:45:41.289188Z",
     "start_time": "2024-08-17T06:45:18.253664Z"
    }
   },
   "cell_type": "code",
   "source": "print(HD_reponse(6,\"이 환자의 심장질환여부 알려줘\"))",
   "id": "26be2679564ab7e8",
   "outputs": [
    {
     "name": "stdout",
     "output_type": "stream",
     "text": [
      "[{'측정일자': '2024-05-03', '환자부모_뇌졸중': '없음', '환자부모_심근경색': '없음', '환자부모_고혈압': '없음', '환자부모_당뇨병': '없음', '환자부모_기타(암_포함)': '없음', '환자_뇌졸중': '없음', '환자_심근경색': '있음', '환자_고혈압': '있음', '환자_당뇨병': '있음', '환자_COVID-19(감염횟수)': 0, '환자_기타(암_포함)': '없음', '실내운동': '안함', '실외운동': '함', '평소_즐겨하는_운동_종목': '헬스', '숨_많이_차는_고강도_운동_시행하는_일주일_기준_일수': '0일', '평균_하루_운동시간': '60분', '최근 1주일 동안 근력 운동한 일수': '3일', '흡연여부': '아니오', '과거_흡연_년수': 0, '금연_전_주간_흡연일수': '0일', '현재_흡연_년수': 0, '현재_흡연중이며_한_주_흡연량': '0일', '전자담배_사용여부': '사용한 적 없음', '전자담배_사용경험이_있으며_최근_한달_내_전자담배_사용여부': '사용한 적 없음', '가슴과_관련된_증상': '가슴이 답답합니다', '근력과_관련된_증상': '근력이 감소하였습니다', '기침과_관련된_증상': '해당 사항 없음', '두통과_관련된_증상': '해당 사항 없음', '소변과_관련된_증상': '평소에 소변을 자주 봅니다, 야간에 소변을 자주 봅니다', '식욕과_관련된_증상': '식욕이 없습니다', '심장과_관련된_증상': '가슴이 두근거립니다', '의식과_관련된_증상': '해당 사항 없음', '체중과_관련된_증상': '체중이 증가하였습니다', '열과_관련된_증상': '열이 조금 납니다', '피로감과_관련된_증상': '해당 사항 없음', '피부모양과_관련된_증상': '해당 사항 없음', '피부색과_관련된_증상': '해당 사항 없음', '호흡과_관련된_증상': '해당 사항 없음', '지난_1년간_음주_빈도': 'week 기준 2번', '지난_1년간_평균_음주량': '소주6잔', '지난_1년간_최대_음주량': '소주7잔'}]\n",
      "환자는 1946년생 남성으로, 현재 77세입니다. 가족 중에는 심장질환 이력이 없으나, 본인은 심근경색과 고혈압, 당뇨병의 병력이 있습니다. 최근 혈압은 144/77 mmHg로, 고혈압 약을 복용하고 있으며, 혈당 수치는 155 mg/dL로 다소 높은 편입니다. \n",
      "\n",
      "Inbody 분석 결과, 체질량지수(BMI)는 23.9로 정상 범위에 있으나, 체지방률이 27.4%로 다소 높은 편입니다. 복부지방률은 0.95로, 심혈관 질환의 위험을 증가시킬 수 있는 수치입니다. \n",
      "\n",
      "환자는 주 3일 근력 운동을 하고 있으며, 평균 하루 60분의 운동을 하고 있습니다. 그러나 가슴이 답답하고 두근거림을 느끼는 증상이 있으며, 체중이 증가하고 식욕이 감소하는 경향이 있습니다. \n",
      "\n",
      "이러한 상태를 고려할 때, 환자는 심장 건강을 위해 다음과 같은 조치를 취하는 것이 좋습니다:\n",
      "1. **정기적인 심장 검진**: 심장 전문의와의 상담을 통해 심장 건강 상태를 정기적으로 점검하세요.\n",
      "2. **식이요법**: 저염식과 저당식으로 식단을 조절하여 혈압과 혈당을 관리하세요.\n",
      "3. **체중 관리**: 체중 증가를 방지하기 위해 운동량을 늘리고, 건강한 식습관을 유지하세요.\n",
      "4. **스트레스 관리**: 심리적 스트레스를 줄이기 위한 방법을 찾아보세요. 요가나 명상 등이 도움이 될 수 있습니다.\n",
      "5. **증상 모니터링**: 가슴의 답답함이나 두근거림이 심해지면 즉시 의료기관을 방문하세요.\n",
      "\n",
      "환자의 건강 상태를 지속적으로 모니터링하고, 필요시 전문가의 도움을 받는 것이 중요합니다.\n"
     ]
    }
   ],
   "execution_count": 60
  },
  {
   "metadata": {
    "ExecuteTime": {
     "end_time": "2024-08-17T07:04:21.793214Z",
     "start_time": "2024-08-17T07:04:21.786125Z"
    }
   },
   "cell_type": "code",
   "source": [
    "# 통합 응답을 생성하는 함수\n",
    "def cancer_reponse(id, question):\n",
    "    # CSV 파일 경로\n",
    "    file_paths = ['./data/col_value_change/inbody.csv', './data/col_value_change/patients.csv', './data/col_value_change/vital.csv','./data/col_value_change/reports.csv']\n",
    "    \n",
    "       # CSV 파일을 JSON으로 변환하여 문자열 반환\n",
    "    json_str = csv_files_to_json(file_paths)\n",
    "    # JSON 문자열을 다시 딕셔너리로 변환\n",
    "    json_data = json.loads(json_str)\n",
    "    \n",
    "    # ID에 해당하는 데이터 가져오기\n",
    "    inbody_response = json_data.get(str(id), {}).get('inbody', [])\n",
    "    patients_response = json_data.get(str(id), {}).get('patients', [])\n",
    "    vital_response = json_data.get(str(id), {}).get('vital', [])\n",
    "    reports_resonse = json_data.get(str(id), {}).get('reports', [])\n",
    "    # print(reports_resonse)\n",
    "    total_analysis = f\"\"\"\n",
    "    환자 정보 :\n",
    "    {patients_response}\n",
    "    \n",
    "    inbody 분석 : \n",
    "    {inbody_response}\n",
    "    \n",
    "    vital 분석 : \n",
    "    {vital_response}\n",
    "    \n",
    "    설문조사 분석 :\n",
    "    {reports_resonse} \n",
    "    \n",
    "    \"\"\"\n",
    "    splitter = CharacterTextSplitter.from_tiktoken_encoder(\n",
    "        separator=\"\\n\",\n",
    "        chunk_size=1000,\n",
    "        chunk_overlap=200,\n",
    "    )\n",
    "    loader = TextLoader(\"./data/암_지침서.txt\")\n",
    "    \n",
    "    docs = loader.load_and_split(text_splitter=splitter)\n",
    "    vectorstore = FAISS.from_documents(docs, embedding_function)\n",
    "    retriever = vectorstore.as_retriever()\n",
    "\n",
    "    \n",
    "    final_prompt = ChatPromptTemplate.from_messages([\n",
    "        (\"system\",\n",
    "        \"\"\"\n",
    "        너는 암 전문 의사야.\n",
    "        환자의 정보들을 기반으로 암에 대한 환자의 건강상태에 대해서 말해 가족 중에 암이 있는 사람도 있고 없는 사람도 있으니 해당 정보도 유심히 봐야 해.\n",
    "        내가 주는 docs 파일을 기반으로 이 환자에 특화적인 조언도 추가 해.\n",
    "        암 관련 얘기만 해라.\n",
    "        이를 기반으로 아래처럼 말해라.\n",
    "        예시) ~ 환자는 가족 중에 암에 대한 이력이 ~ 하고 현재 환자는 암이 ~ 한 상태이다.\n",
    "        context: {context}\n",
    "        \"\"\"       \n",
    "        ),\n",
    "        (\"human\", \"{total_analysis}\")\n",
    "    ])\n",
    "\n",
    "    final_chain = (\n",
    "        {\n",
    "            \"context\": retriever | RunnableLambda(format_docs),\n",
    "            \"total_analysis\": RunnablePassthrough(),\n",
    "        }\n",
    "        | final_prompt\n",
    "        | llm\n",
    "        | StrOutputParser()\n",
    "    )\n",
    "    \n",
    "    response = final_chain.invoke(total_analysis)\n",
    "    return response"
   ],
   "id": "cd92ce0e3c8d824",
   "outputs": [],
   "execution_count": 74
  },
  {
   "metadata": {
    "ExecuteTime": {
     "end_time": "2024-08-17T07:04:31.744856Z",
     "start_time": "2024-08-17T07:04:22.567206Z"
    }
   },
   "cell_type": "code",
   "source": "print(cancer_reponse(6,\"이 환자의 암여부 알려줘\"))",
   "id": "73667a526ed616ee",
   "outputs": [
    {
     "name": "stdout",
     "output_type": "stream",
     "text": [
      "[{'측정일자': '2024-05-03', '환자부모_뇌졸중': '없음', '환자부모_심근경색': '없음', '환자부모_고혈압': '없음', '환자부모_당뇨병': '없음', '환자부모_기타(암_포함)': '없음', '환자_뇌졸중': '없음', '환자_심근경색': '있음', '환자_고혈압': '있음', '환자_당뇨병': '있음', '환자_COVID-19(감염횟수)': 0, '환자_기타(암_포함)': '없음', '실내운동': '안함', '실외운동': '함', '평소_즐겨하는_운동_종목': '헬스', '숨_많이_차는_고강도_운동_시행하는_일주일_기준_일수': '0일', '평균_하루_운동시간': '60분', '최근 1주일 동안 근력 운동한 일수': '3일', '흡연여부': '아니오', '과거_흡연_년수': 0, '금연_전_주간_흡연일수': '0일', '현재_흡연_년수': 0, '현재_흡연중이며_한_주_흡연량': '0일', '전자담배_사용여부': '사용한 적 없음', '전자담배_사용경험이_있으며_최근_한달_내_전자담배_사용여부': '사용한 적 없음', '가슴과_관련된_증상': '가슴이 답답합니다', '근력과_관련된_증상': '근력이 감소하였습니다', '기침과_관련된_증상': '해당 사항 없음', '두통과_관련된_증상': '해당 사항 없음', '소변과_관련된_증상': '평소에 소변을 자주 봅니다, 야간에 소변을 자주 봅니다', '식욕과_관련된_증상': '식욕이 없습니다', '심장과_관련된_증상': '가슴이 두근거립니다', '의식과_관련된_증상': '해당 사항 없음', '체중과_관련된_증상': '체중이 증가하였습니다', '열과_관련된_증상': '열이 조금 납니다', '피로감과_관련된_증상': '해당 사항 없음', '피부모양과_관련된_증상': '해당 사항 없음', '피부색과_관련된_증상': '해당 사항 없음', '호흡과_관련된_증상': '해당 사항 없음', '지난_1년간_음주_빈도': 'week 기준 2번', '지난_1년간_평균_음주량': '소주6잔', '지난_1년간_최대_음주량': '소주7잔'}]\n",
      "환자는 가족 중에 암에 대한 이력이 없으며, 현재 환자는 암에 대한 진단이 없는 상태입니다. 그러나 환자는 심근경색과 고혈압의 병력이 있으며, 이는 심혈관계 건강에 영향을 미칠 수 있습니다. \n",
      "\n",
      "환자의 최근 InBody 분석 결과에 따르면, 체지방률이 27.9%로 다소 높은 편이며, 복부지방률도 0.97로 나타났습니다. 이러한 수치는 비만과 관련된 건강 문제의 위험을 증가시킬 수 있습니다. 또한, 혈압이 156/83 mmHg로 다소 높은 수치를 보이고 있으며, 이는 심혈관계 질환의 위험을 높일 수 있습니다.\n",
      "\n",
      "건강을 유지하기 위한 조언으로는 다음과 같습니다:\n",
      "\n",
      "1. **균형 잡힌 식단 유지**: 신선한 과일과 채소, 통곡물, 저지방 단백질, 건강한 지방을 포함한 식사를 통해 체중 관리와 면역력 강화를 도모해야 합니다.\n",
      "\n",
      "2. **적절한 수분 섭취**: 충분한 물을 마시는 것이 중요하며, 이는 체내 기능을 최적화하고 건강을 유지하는 데 도움을 줍니다.\n",
      "\n",
      "3. **규칙적인 신체 활동**: 헬스와 같은 운동을 지속적으로 하여 체력과 면역력을 강화하는 것이 좋습니다. 그러나 운동 강도는 환자의 상태에 맞게 조정해야 합니다.\n",
      "\n",
      "4. **스트레스 관리**: 명상이나 요가와 같은 방법으로 스트레스를 줄이는 것이 정신적 안정에 도움이 됩니다.\n",
      "\n",
      "5. **금연**: 현재 흡연을 하지 않지만, 흡연은 암의 위험을 높일 수 있으므로 금연을 지속하는 것이 중요합니다.\n",
      "\n",
      "6. **음주 제한**: 최근 음주 빈도가 주 2회로 나타났으며, 알코올은 면역 체계를 약화시킬 수 있으므로 음주를 피하거나 크게 제한하는 것이 좋습니다.\n",
      "\n",
      "7. **의사와의 지속적인 상담**: 정기적으로 의사와 상담하여 개인화된 건강 관리 지침을 받는 것이 중요합니다.\n",
      "\n",
      "이러한 조언을 통해 환자의 전반적인 건강을 개선하고, 암 발생 위험을 줄이는 데 도움이 될 것입니다.\n"
     ]
    }
   ],
   "execution_count": 75
  },
  {
   "metadata": {
    "ExecuteTime": {
     "end_time": "2024-08-17T07:08:34.592127Z",
     "start_time": "2024-08-17T07:08:34.587032Z"
    }
   },
   "cell_type": "code",
   "source": [
    "def final_response(id, question):\n",
    "    DM_response = DM_reponse(id, question)\n",
    "    HBP_response = HBP_reponse(id, question)\n",
    "    HD_response = HD_reponse(id, question)\n",
    "    cancer_resonse = cancer_reponse(id, question)\n",
    "    total_analysis = f\"\"\"\n",
    "    당뇨병 분석 :\n",
    "    {DM_response}\n",
    "    \n",
    "    고혈압 분석 : \n",
    "    {HBP_response}\n",
    "    \n",
    "    심장질환 분석 : \n",
    "    {HD_response}\n",
    "    \n",
    "    암 분석 :\n",
    "    {cancer_resonse} \n",
    "    \"\"\"\n",
    "    \n",
    "    # final_query = f\"\"\"\n",
    "    # You are a professional doctor. Based on the following context, provide a detailed analysis and comprehensive advice regarding the patient's condition. Only include the sections \"종합 분석\" and \"종합적인 조언\" in your response. Do not include headings or introductory/concluding sentences. Answer questions using only the provided context. If you do not know the answer, simply state that you do not know; do not speculate or make up information. :\\n\\n{total_analysis}\"\"\"\n",
    "    final_query = f\"\"\"\n",
    "    You are a professional doctor. We provide detailed analysis of the patient's condition and comprehensive advice based on the following context: Please include only the “Summary Analysis” and “Comprehensive” sections in your response. In addition, if the patient or family member has diabetes, high blood pressure, heart disease, or cancer, they will be given a detailed explanation of the disease. If none of the diseases described above apply, measures should be taken to prepare for or prevent such diseases based on comprehensive health status information. Include advice on how to get drunk. Do not include a title or introductory/concluding sentences. Answer the questions using only the context provided. If you don't know the answer, just say you don't know. Do not guess or make up information. :\\n\\n{total_analysis}\"\"\"\n",
    "\n",
    "    \n",
    "    final_prompt = ChatPromptTemplate.from_messages([\n",
    "        (\"system\",\n",
    "         final_query         \n",
    "         ),\n",
    "        (\"human\", \"{question}\")\n",
    "    ])\n",
    "    final_chain = (\n",
    "        {\"question\": RunnablePassthrough()}\n",
    "        | final_prompt\n",
    "        | llm\n",
    "        | StrOutputParser()\n",
    "    )\n",
    "    \n",
    "    response = final_chain.invoke(question)\n",
    "    return response"
   ],
   "id": "d988aaaf1566881e",
   "outputs": [],
   "execution_count": 76
  },
  {
   "metadata": {
    "ExecuteTime": {
     "end_time": "2024-08-17T07:09:29.092970Z",
     "start_time": "2024-08-17T07:08:38.893208Z"
    }
   },
   "cell_type": "code",
   "source": "print(final_response('6','건강정보에 대한 종합적인 소견을 말해'))",
   "id": "be0dbeee5db504e8",
   "outputs": [
    {
     "name": "stdout",
     "output_type": "stream",
     "text": [
      "[{'측정일자': '2024-05-03', '환자부모_뇌졸중': '없음', '환자부모_심근경색': '없음', '환자부모_고혈압': '없음', '환자부모_당뇨병': '없음', '환자부모_기타(암_포함)': '없음', '환자_뇌졸중': '없음', '환자_심근경색': '있음', '환자_고혈압': '있음', '환자_당뇨병': '있음', '환자_COVID-19(감염횟수)': 0, '환자_기타(암_포함)': '없음', '실내운동': '안함', '실외운동': '함', '평소_즐겨하는_운동_종목': '헬스', '숨_많이_차는_고강도_운동_시행하는_일주일_기준_일수': '0일', '평균_하루_운동시간': '60분', '최근 1주일 동안 근력 운동한 일수': '3일', '흡연여부': '아니오', '과거_흡연_년수': 0, '금연_전_주간_흡연일수': '0일', '현재_흡연_년수': 0, '현재_흡연중이며_한_주_흡연량': '0일', '전자담배_사용여부': '사용한 적 없음', '전자담배_사용경험이_있으며_최근_한달_내_전자담배_사용여부': '사용한 적 없음', '가슴과_관련된_증상': '가슴이 답답합니다', '근력과_관련된_증상': '근력이 감소하였습니다', '기침과_관련된_증상': '해당 사항 없음', '두통과_관련된_증상': '해당 사항 없음', '소변과_관련된_증상': '평소에 소변을 자주 봅니다, 야간에 소변을 자주 봅니다', '식욕과_관련된_증상': '식욕이 없습니다', '심장과_관련된_증상': '가슴이 두근거립니다', '의식과_관련된_증상': '해당 사항 없음', '체중과_관련된_증상': '체중이 증가하였습니다', '열과_관련된_증상': '열이 조금 납니다', '피로감과_관련된_증상': '해당 사항 없음', '피부모양과_관련된_증상': '해당 사항 없음', '피부색과_관련된_증상': '해당 사항 없음', '호흡과_관련된_증상': '해당 사항 없음', '지난_1년간_음주_빈도': 'week 기준 2번', '지난_1년간_평균_음주량': '소주6잔', '지난_1년간_최대_음주량': '소주7잔'}]\n",
      "[{'측정일자': '2024-05-03', '환자부모_뇌졸중': '없음', '환자부모_심근경색': '없음', '환자부모_고혈압': '없음', '환자부모_당뇨병': '없음', '환자부모_기타(암_포함)': '없음', '환자_뇌졸중': '없음', '환자_심근경색': '있음', '환자_고혈압': '있음', '환자_당뇨병': '있음', '환자_COVID-19(감염횟수)': 0, '환자_기타(암_포함)': '없음', '실내운동': '안함', '실외운동': '함', '평소_즐겨하는_운동_종목': '헬스', '숨_많이_차는_고강도_운동_시행하는_일주일_기준_일수': '0일', '평균_하루_운동시간': '60분', '최근 1주일 동안 근력 운동한 일수': '3일', '흡연여부': '아니오', '과거_흡연_년수': 0, '금연_전_주간_흡연일수': '0일', '현재_흡연_년수': 0, '현재_흡연중이며_한_주_흡연량': '0일', '전자담배_사용여부': '사용한 적 없음', '전자담배_사용경험이_있으며_최근_한달_내_전자담배_사용여부': '사용한 적 없음', '가슴과_관련된_증상': '가슴이 답답합니다', '근력과_관련된_증상': '근력이 감소하였습니다', '기침과_관련된_증상': '해당 사항 없음', '두통과_관련된_증상': '해당 사항 없음', '소변과_관련된_증상': '평소에 소변을 자주 봅니다, 야간에 소변을 자주 봅니다', '식욕과_관련된_증상': '식욕이 없습니다', '심장과_관련된_증상': '가슴이 두근거립니다', '의식과_관련된_증상': '해당 사항 없음', '체중과_관련된_증상': '체중이 증가하였습니다', '열과_관련된_증상': '열이 조금 납니다', '피로감과_관련된_증상': '해당 사항 없음', '피부모양과_관련된_증상': '해당 사항 없음', '피부색과_관련된_증상': '해당 사항 없음', '호흡과_관련된_증상': '해당 사항 없음', '지난_1년간_음주_빈도': 'week 기준 2번', '지난_1년간_평균_음주량': '소주6잔', '지난_1년간_최대_음주량': '소주7잔'}]\n",
      "[{'측정일자': '2024-05-03', '환자부모_뇌졸중': '없음', '환자부모_심근경색': '없음', '환자부모_고혈압': '없음', '환자부모_당뇨병': '없음', '환자부모_기타(암_포함)': '없음', '환자_뇌졸중': '없음', '환자_심근경색': '있음', '환자_고혈압': '있음', '환자_당뇨병': '있음', '환자_COVID-19(감염횟수)': 0, '환자_기타(암_포함)': '없음', '실내운동': '안함', '실외운동': '함', '평소_즐겨하는_운동_종목': '헬스', '숨_많이_차는_고강도_운동_시행하는_일주일_기준_일수': '0일', '평균_하루_운동시간': '60분', '최근 1주일 동안 근력 운동한 일수': '3일', '흡연여부': '아니오', '과거_흡연_년수': 0, '금연_전_주간_흡연일수': '0일', '현재_흡연_년수': 0, '현재_흡연중이며_한_주_흡연량': '0일', '전자담배_사용여부': '사용한 적 없음', '전자담배_사용경험이_있으며_최근_한달_내_전자담배_사용여부': '사용한 적 없음', '가슴과_관련된_증상': '가슴이 답답합니다', '근력과_관련된_증상': '근력이 감소하였습니다', '기침과_관련된_증상': '해당 사항 없음', '두통과_관련된_증상': '해당 사항 없음', '소변과_관련된_증상': '평소에 소변을 자주 봅니다, 야간에 소변을 자주 봅니다', '식욕과_관련된_증상': '식욕이 없습니다', '심장과_관련된_증상': '가슴이 두근거립니다', '의식과_관련된_증상': '해당 사항 없음', '체중과_관련된_증상': '체중이 증가하였습니다', '열과_관련된_증상': '열이 조금 납니다', '피로감과_관련된_증상': '해당 사항 없음', '피부모양과_관련된_증상': '해당 사항 없음', '피부색과_관련된_증상': '해당 사항 없음', '호흡과_관련된_증상': '해당 사항 없음', '지난_1년간_음주_빈도': 'week 기준 2번', '지난_1년간_평균_음주량': '소주6잔', '지난_1년간_최대_음주량': '소주7잔'}]\n",
      "[{'측정일자': '2024-05-03', '환자부모_뇌졸중': '없음', '환자부모_심근경색': '없음', '환자부모_고혈압': '없음', '환자부모_당뇨병': '없음', '환자부모_기타(암_포함)': '없음', '환자_뇌졸중': '없음', '환자_심근경색': '있음', '환자_고혈압': '있음', '환자_당뇨병': '있음', '환자_COVID-19(감염횟수)': 0, '환자_기타(암_포함)': '없음', '실내운동': '안함', '실외운동': '함', '평소_즐겨하는_운동_종목': '헬스', '숨_많이_차는_고강도_운동_시행하는_일주일_기준_일수': '0일', '평균_하루_운동시간': '60분', '최근 1주일 동안 근력 운동한 일수': '3일', '흡연여부': '아니오', '과거_흡연_년수': 0, '금연_전_주간_흡연일수': '0일', '현재_흡연_년수': 0, '현재_흡연중이며_한_주_흡연량': '0일', '전자담배_사용여부': '사용한 적 없음', '전자담배_사용경험이_있으며_최근_한달_내_전자담배_사용여부': '사용한 적 없음', '가슴과_관련된_증상': '가슴이 답답합니다', '근력과_관련된_증상': '근력이 감소하였습니다', '기침과_관련된_증상': '해당 사항 없음', '두통과_관련된_증상': '해당 사항 없음', '소변과_관련된_증상': '평소에 소변을 자주 봅니다, 야간에 소변을 자주 봅니다', '식욕과_관련된_증상': '식욕이 없습니다', '심장과_관련된_증상': '가슴이 두근거립니다', '의식과_관련된_증상': '해당 사항 없음', '체중과_관련된_증상': '체중이 증가하였습니다', '열과_관련된_증상': '열이 조금 납니다', '피로감과_관련된_증상': '해당 사항 없음', '피부모양과_관련된_증상': '해당 사항 없음', '피부색과_관련된_증상': '해당 사항 없음', '호흡과_관련된_증상': '해당 사항 없음', '지난_1년간_음주_빈도': 'week 기준 2번', '지난_1년간_평균_음주량': '소주6잔', '지난_1년간_최대_음주량': '소주7잔'}]\n",
      "Summary Analysis:  \n",
      "환자는 77세 남성으로, 당뇨병, 고혈압, 심근경색의 병력이 있으며, 최근 혈당 수치와 혈압 수치가 다소 높은 편입니다. 체질량지수(BMI)는 정상 범위에 속하지만, 체지방률과 복부지방률이 증가하는 경향이 있어 심혈관 건강에 부정적인 영향을 미칠 수 있습니다. 가슴의 답답함과 두근거림을 호소하고 있으며, 식욕이 감소하고 체중이 증가한 점도 우려됩니다.\n",
      "\n",
      "Comprehensive:  \n",
      "1. **정기적인 심장 검진**: 심장 건강을 모니터링하기 위해 정기적인 심전도 및 심장 초음파 검사를 받는 것이 중요합니다.  \n",
      "2. **식이요법 개선**: 저염식 및 저당식으로 식단을 조절하고, 과일과 채소를 충분히 섭취하여 혈당과 혈압을 관리하는 것이 필요합니다.  \n",
      "3. **운동 지속**: 현재의 운동 습관을 유지하되, 심장에 무리가 가지 않도록 저강도 유산소 운동을 추가하는 것이 좋습니다.  \n",
      "4. **증상 관리**: 가슴의 답답함과 두근거림이 지속된다면 즉시 의료진과 상담하여 적절한 조치를 취해야 합니다.  \n",
      "5. **정신적 스트레스 관리**: 스트레스가 심장 건강에 미치는 영향을 고려하여, 명상이나 요가와 같은 이완 기법을 시도해보는 것도 좋습니다.  \n",
      "6. **균형 잡힌 식단 유지**: 신선한 과일과 채소, 통곡물, 저지방 단백질, 건강한 지방을 포함한 식사를 통해 영양을 공급받는 것이 중요합니다.  \n",
      "7. **적절한 수분 섭취**: 충분한 물을 마시는 것은 체내 기능을 최적화하고, 건강을 유지하는 데 중요합니다.  \n",
      "8. **규칙적인 신체 활동**: 운동은 체력 유지와 면역력 강화를 도와줍니다.  \n",
      "9. **스트레스 관리**: 명상이나 요가와 같은 방법으로 스트레스를 줄이는 것이 정신적 안정을 유지하는 데 도움이 됩니다.  \n",
      "10. **금연**: 현재 흡연을 하지 않으므로 이 상태를 유지하는 것이 중요합니다.  \n",
      "11. **과도한 음주 피하기**: 음주를 줄이거나 피하는 것이 좋습니다.  \n",
      "12. **정기적인 건강 검진**: 개인화된 지침을 받기 위해 정기적인 건강 검진과 의사와의 상담이 중요합니다.\n"
     ]
    }
   ],
   "execution_count": 77
  },
  {
   "metadata": {},
   "cell_type": "code",
   "outputs": [],
   "execution_count": null,
   "source": "",
   "id": "9991919e65006a42"
  }
 ],
 "metadata": {
  "kernelspec": {
   "display_name": "Python 3",
   "language": "python",
   "name": "python3"
  },
  "language_info": {
   "codemirror_mode": {
    "name": "ipython",
    "version": 2
   },
   "file_extension": ".py",
   "mimetype": "text/x-python",
   "name": "python",
   "nbconvert_exporter": "python",
   "pygments_lexer": "ipython2",
   "version": "2.7.6"
  }
 },
 "nbformat": 4,
 "nbformat_minor": 5
}

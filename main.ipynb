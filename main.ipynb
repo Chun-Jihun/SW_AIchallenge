{
 "cells": [
  {
   "cell_type": "code",
   "execution_count": 12,
   "metadata": {
    "ExecuteTime": {
     "end_time": "2024-08-12T05:46:08.851215Z",
     "start_time": "2024-08-12T05:46:08.845560Z"
    },
    "id": "EgOaniCiayes"
   },
   "outputs": [],
   "source": [
    "import openai\n",
    "import os\n",
    "import pandas as pd\n",
    "import time\n",
    "from dotenv import load_dotenv\n",
    "from langchain_core.prompts import ChatPromptTemplate\n",
    "from langchain_core.output_parsers import StrOutputParser\n",
    "from langchain_core.runnables import RunnablePassthrough, RunnableLambda\n",
    "from langchain.vectorstores import FAISS\n",
    "from langchain_community.document_loaders.csv_loader import CSVLoader\n",
    "from langchain_community.document_loaders import PyPDFLoader\n",
    "from langchain_openai import ChatOpenAI\n",
    "from langchain_openai import OpenAIEmbeddings\n",
    "from collections import defaultdict\n",
    "import json\n",
    "from langchain_text_splitters import RecursiveJsonSplitter, CharacterTextSplitter\n",
    "\n",
    "\n",
    "load_dotenv()\n",
    "OPENAI_API_KEY = os.getenv('OPENAI_API_KEY')\n",
    "LANGCHAIN_TRACING_V2 = os.getenv('LANGCHAIN_TRACING_V2')\n",
    "LANGCHAIN_ENDPOINT = os.getenv('LANGCHAIN_ENDPOINT')\n",
    "LANGCHAIN_API_KEY = os.getenv('LANGCHAIN_API_KEY')\n",
    "LANGCHAIN_PROJECT = os.getenv('LANGCHAIN_PROJECT')"
   ]
  },
  {
   "cell_type": "code",
   "execution_count": 2,
   "metadata": {
    "ExecuteTime": {
     "end_time": "2024-08-12T05:46:09.908751Z",
     "start_time": "2024-08-12T05:46:09.096575Z"
    }
   },
   "outputs": [],
   "source": [
    "embedding_function = OpenAIEmbeddings()\n",
    "\n",
    "def format_docs(docs):\n",
    "    return \"\\n\\n\".join(document.page_content for document in docs)\n",
    "\n",
    "# Create the language model\n",
    "llm = ChatOpenAI(model='gpt-4o-mini', temperature=0.0)\n",
    "\n",
    "analysis_prompt = ChatPromptTemplate.from_messages(\n",
    "[\n",
    "    (\n",
    "    \"system\",\n",
    "    \"\"\"\n",
    "    You are a professional doctor. Based on the following context, provide a detailed analysis and comprehensive advice regarding the patient's condition. Only include the sections \"종합 분석\" and \"종합적인 조언\" in your response. Do not include headings or introductory/concluding sentences. Answer questions using only the provided context. If you do not know the answer, simply state that you do not know; do not speculate or make up information.:\\n\\n{context}\"\n",
    "     \"\"\",\n",
    "     ),\n",
    "    (\"human\", \"{question}\")\n",
    "    ]\n",
    ")"
   ]
  },
  {
   "cell_type": "code",
   "execution_count": 3,
   "metadata": {
    "ExecuteTime": {
     "end_time": "2024-08-12T05:46:09.914415Z",
     "start_time": "2024-08-12T05:46:09.909751Z"
    }
   },
   "outputs": [],
   "source": [
    "def csv_files_to_json(file_paths, encoding='cp949'):\n",
    "    # Initialize a default dictionary to store dictionaries for each ID\n",
    "    json_data = defaultdict(lambda: defaultdict(list))\n",
    "    \n",
    "    # Iterate through each CSV file\n",
    "    for file_path in file_paths:\n",
    "        # Extract the file name without extension to use as a key\n",
    "        file_key = file_path.split('/')[-1].split('.')[0]\n",
    "        \n",
    "        # Read the CSV file into a DataFrame with cp949 encoding\n",
    "        df = pd.read_csv(file_path, encoding=encoding)\n",
    "        \n",
    "        # Group the data by 'id'\n",
    "        for id, group in df.groupby('id'):\n",
    "            # Convert the group data to a dictionary without the 'id' column\n",
    "            record = group.drop(columns=['id']).to_dict(orient='records')\n",
    "            # Append the record under the corresponding file name for the given id\n",
    "            json_data[str(id)][file_key].extend(record)\n",
    "    \n",
    "    # Convert the default dictionary to a regular dictionary and then to a JSON string\n",
    "    json_str = json.dumps(dict(json_data), indent=4)\n",
    "    \n",
    "    return json_str"
   ]
  },
  {
   "cell_type": "code",
   "execution_count": 4,
   "metadata": {
    "ExecuteTime": {
     "end_time": "2024-08-12T05:46:09.919842Z",
     "start_time": "2024-08-12T05:46:09.914931Z"
    }
   },
   "outputs": [],
   "source": [
    "def inbody_analysis(embedding_function, llm, prompt, id, question):\n",
    "    \n",
    "    # file_paths = ['./data/inbody.csv', './data/patients.csv','./data/reports.csv','./data/vital.csv']\n",
    "    file_paths = ['./data/col_value_change/inbody.csv']\n",
    "    \n",
    "    inbody_json = csv_files_to_json(file_paths)\n",
    "    json_data = json.loads(inbody_json)\n",
    "    \n",
    "    # 특정 id의 데이터 불러오기 (예: id가 '1'인 경우)\n",
    "    target_id = id\n",
    "    \n",
    "    # 해당 id가 존재하는지 확인\n",
    "    if target_id in json_data:\n",
    "        id_data = json_data[target_id]\n",
    "        print(f\"{target_id}에 대한 인바디 정보 분석 중...\")\n",
    "        json_output = json.dumps(id_data)\n",
    "    else:\n",
    "        print(f\"ID {target_id} not found.\")\n",
    "    \n",
    "    json_data = json.loads(json_output)\n",
    "    \n",
    "    splitter = RecursiveJsonSplitter(max_chunk_size=300)\n",
    "        \n",
    "    # The splitter can also output documents\n",
    "    docs = splitter.create_documents(texts=[json_data])\n",
    "    \n",
    "    # or a list of strings\n",
    "    # texts = splitter.split_text(json_data=json_data)\n",
    "\n",
    "    #벡터스토어 생성\n",
    "    inbody_vectorstore = FAISS.from_documents(docs, embedding_function)\n",
    "    #retriever\n",
    "    inbody_retriever = inbody_vectorstore.as_retriever()\n",
    "    inbody_query = f\"\"\"\n",
    "    너는 인바디 정보를 받아 각 환자마다 이를 토대로 추천운동, 추천식단, 건강정보에 중요한 정보들을 정리해야 한다.\n",
    "    date값은 환자가 측정한 자신의 인바디 측정일이다.\n",
    "    환자의 인바디 정보가 시간에 따른 변화에서 유의미한 정보가 있다면 정리하는 내용에 포함하라.\n",
    "    \"\"\"\n",
    "\n",
    "    inbody_query += \"{context}\"\n",
    "    prompt = ChatPromptTemplate.from_messages(\n",
    "[\n",
    "    (\n",
    "    \"system\",\n",
    "    inbody_query,\n",
    "     ),\n",
    "    (\"human\", \"{question}\")\n",
    "    ]\n",
    ")\n",
    "    \n",
    "    inbody_chain = (\n",
    "        {\"context\": inbody_retriever, \"question\": RunnablePassthrough()}\n",
    "        | prompt\n",
    "        | llm\n",
    "        | StrOutputParser()\n",
    "    )\n",
    "    \n",
    "    inbody_response = inbody_chain.invoke(question)\n",
    "    return inbody_response"
   ]
  },
  {
   "cell_type": "code",
   "execution_count": 5,
   "metadata": {
    "ExecuteTime": {
     "end_time": "2024-08-12T05:46:09.965052Z",
     "start_time": "2024-08-12T05:46:09.960571Z"
    }
   },
   "outputs": [],
   "source": [
    "def vital_analysis(embedding_function, llm, prompt, id, question):\n",
    "    \n",
    "    # file_paths = ['./data/inbody.csv', './data/patients.csv','./data/reports.csv','./data/vital.csv']\n",
    "    file_paths = ['./data/col_value_change/vital.csv']\n",
    "    \n",
    "    vital_json = csv_files_to_json(file_paths)\n",
    "    json_data = json.loads(vital_json)\n",
    "    \n",
    "    # 특정 id의 데이터 불러오기 (예: id가 '1'인 경우)\n",
    "    target_id = id\n",
    "    \n",
    "    # 해당 id가 존재하는지 확인\n",
    "    if target_id in json_data:\n",
    "        id_data = json_data[target_id]\n",
    "        print(f\"{target_id}에 대한 바이탈 정보 분석 중...\")\n",
    "        json_output = json.dumps(id_data)\n",
    "    else:\n",
    "        print(f\"ID {target_id} not found.\")\n",
    "    \n",
    "    json_data = json.loads(json_output)\n",
    "    \n",
    "    splitter = RecursiveJsonSplitter(max_chunk_size=300)\n",
    "    \n",
    "    \n",
    "    # The splitter can also output documents\n",
    "    docs = splitter.create_documents(texts=[json_data])\n",
    "    \n",
    "    # or a list of strings\n",
    "    texts = splitter.split_text(json_data=json_data)\n",
    "    #벡터스토어 생성\n",
    "    vital_vectorstore = FAISS.from_documents(docs, embedding_function)\n",
    "    #retriever\n",
    "    vital_retriever = vital_vectorstore.as_retriever()\n",
    "    vital_query = f\"\"\"\n",
    "    당신은 환자의 주요 생체 신호 정보를 추천운동, 추천식단, 건강정보에 중요한 정보들을 정리해야 한다. \n",
    "    환자의 생체 신호가 시간에 따른 변화에서 유의미한 정보가 있다면 정리하는 내용에 포함하라.\n",
    "    \"\"\"\n",
    "\n",
    "    vital_query += \"{context}\"\n",
    "    prompt = ChatPromptTemplate.from_messages(\n",
    "[\n",
    "    (\n",
    "    \"system\",\n",
    "    vital_query,\n",
    "     ),\n",
    "    (\"human\", \"{question}\")\n",
    "    ]\n",
    ")\n",
    "    \n",
    "    vital_chain = (\n",
    "        {\"context\": vital_retriever, \"question\": RunnablePassthrough()}\n",
    "        | prompt\n",
    "        | llm\n",
    "        | StrOutputParser()\n",
    "    )\n",
    "    \n",
    "    vital_response = vital_chain.invoke(question)\n",
    "    return vital_response"
   ]
  },
  {
   "cell_type": "code",
   "execution_count": 6,
   "metadata": {
    "ExecuteTime": {
     "end_time": "2024-08-12T05:46:10.244200Z",
     "start_time": "2024-08-12T05:46:10.239237Z"
    }
   },
   "outputs": [],
   "source": [
    "def patients_analysis(embedding_function, llm, id, question):\n",
    "    \n",
    "    # file_paths = ['./data/inbody.csv', './data/patients.csv','./data/reports.csv','./data/vital.csv']\n",
    "    file_paths = ['./data/col_value_change/patients.csv']\n",
    "    \n",
    "    patients_json = csv_files_to_json(file_paths)\n",
    "    json_data = json.loads(patients_json)\n",
    "    \n",
    "    # 특정 id의 데이터 불러오기 (예: id가 '1'인 경우)\n",
    "    target_id = id\n",
    "    \n",
    "    # 해당 id가 존재하는지 확인\n",
    "    if target_id in json_data:\n",
    "        id_data = json_data[target_id]\n",
    "        print(f\"{target_id}에 대한 환자 정보 분석 중...\")\n",
    "        json_output = json.dumps(id_data)\n",
    "    else:\n",
    "        print(f\"ID {target_id} not found.\")\n",
    "    \n",
    "    json_data = json.loads(json_output)\n",
    "    \n",
    "    splitter = RecursiveJsonSplitter(max_chunk_size=300)\n",
    "    \n",
    "    \n",
    "    # The splitter can also output documents\n",
    "    docs = splitter.create_documents(texts=[json_data])\n",
    "    \n",
    "    # or a list of strings\n",
    "    texts = splitter.split_text(json_data=json_data)\n",
    "    #벡터스토어 생성\n",
    "    patients_vectorstore = FAISS.from_documents(docs, embedding_function)\n",
    "    #retriever\n",
    "    patients_retriever = patients_vectorstore.as_retriever()\n",
    "    \n",
    "    patients_query = f\"\"\"\n",
    "    context에 있는 정보를 정리하여 간단하게 출력하라. 현재 날짜는 :{time.strftime('%Y.%m.%d')}이다.\n",
    "    환자의 나이는 현재 날짜 년도 - 출생년도이다.\n",
    "    \"\"\"\n",
    "    \n",
    "    patients_query += \"{context}\"\n",
    "    prompt = ChatPromptTemplate.from_messages(\n",
    "[\n",
    "    (\n",
    "    \"system\",\n",
    "    patients_query,\n",
    "     ),\n",
    "    (\"human\", \"{question}\")\n",
    "    ]\n",
    ")\n",
    "    \n",
    "    patients_chain = (\n",
    "        {\"context\": patients_retriever, \"question\": RunnablePassthrough()}\n",
    "        | prompt\n",
    "        | llm\n",
    "        | StrOutputParser()\n",
    "    )\n",
    "    \n",
    "    patients_response = patients_chain.invoke(question)\n",
    "    return patients_response"
   ]
  },
  {
   "cell_type": "code",
   "execution_count": 7,
   "metadata": {
    "ExecuteTime": {
     "end_time": "2024-08-12T05:46:10.583468Z",
     "start_time": "2024-08-12T05:46:10.579726Z"
    }
   },
   "outputs": [],
   "source": [
    "def reports_analysis(embedding_function, llm, prompt, id, question):\n",
    "    \n",
    "    # file_paths = ['./data/inbody.csv', './data/reports.csv','./data/reports.csv','./data/vital.csv']\n",
    "    file_paths = ['./data/col_value_change/reports.csv']\n",
    "    \n",
    "    reports_json = csv_files_to_json(file_paths)\n",
    "    json_data = json.loads(reports_json)\n",
    "    \n",
    "    # 특정 id의 데이터 불러오기 (예: id가 '1'인 경우)\n",
    "    target_id = id\n",
    "    \n",
    "    # 해당 id가 존재하는지 확인\n",
    "    if target_id in json_data:\n",
    "        id_data = json_data[target_id]\n",
    "        print(f\"{target_id}에 대한 설문 정보 분석 중...\")\n",
    "        json_output = json.dumps(id_data)\n",
    "    else:\n",
    "        print(f\"ID {target_id} not found.\")\n",
    "    \n",
    "    json_data = json.loads(json_output)\n",
    "    \n",
    "    splitter = RecursiveJsonSplitter(max_chunk_size=300)\n",
    "    \n",
    "    \n",
    "    # The splitter can also output documents\n",
    "    docs = splitter.create_documents(texts=[json_data])\n",
    "    \n",
    "    # or a list of strings\n",
    "    texts = splitter.split_text(json_data=json_data)\n",
    "    #벡터스토어 생성\n",
    "    reports_vectorstore = FAISS.from_documents(docs, embedding_function)\n",
    "    #retriever\n",
    "    reports_retriever = reports_vectorstore.as_retriever()\n",
    "    \n",
    "    reports_query = f\"\"\"\n",
    "    당신은 환자가 응답한 설문지에 대한 정보를 추천운동, 추천식단, 건강정보에 중요한 정보들을 정리해야 한다. \n",
    "    환자부모에 대한 응답 결과값도 유전력이 있는 질병이라면 이에 대한 점도 유의해야 돼.\n",
    "    \"\"\"\n",
    "\n",
    "    reports_query += \"{context}\"\n",
    "    prompt = ChatPromptTemplate.from_messages(\n",
    "[\n",
    "    (\n",
    "    \"system\",\n",
    "    reports_query,\n",
    "     ),\n",
    "    (\"human\", \"{question}\")\n",
    "    ]\n",
    ")\n",
    "    \n",
    "    reports_chain = (\n",
    "        {\"context\": reports_retriever, \"question\": RunnablePassthrough()}\n",
    "        | prompt\n",
    "        | llm\n",
    "        | StrOutputParser()\n",
    "    )\n",
    "    \n",
    "    reports_response = reports_chain.invoke(question)\n",
    "    return reports_response"
   ]
  },
  {
   "cell_type": "code",
   "execution_count": 8,
   "metadata": {
    "ExecuteTime": {
     "end_time": "2024-08-12T05:46:10.935898Z",
     "start_time": "2024-08-12T05:46:10.931646Z"
    }
   },
   "outputs": [],
   "source": [
    "def final_response(id, question):\n",
    "    inbody_response = inbody_analysis(embedding_function, llm, analysis_prompt, id, question)\n",
    "    vital_response = vital_analysis(embedding_function, llm, analysis_prompt, id, question)\n",
    "    patients_response = patients_analysis(embedding_function, llm, id, question)\n",
    "    reports_resonse = reports_analysis(embedding_function, llm, analysis_prompt, id, question)\n",
    "    total_analysis = f\"\"\"\n",
    "    환자 정보 :\n",
    "    {patients_response}\n",
    "    \n",
    "    inbody 분석 : \n",
    "    {inbody_response}\n",
    "    \n",
    "    vital 분석 : \n",
    "    {vital_response}\n",
    "    \n",
    "    설문조사 분석 :\n",
    "    {reports_resonse} \n",
    "    \"\"\"\n",
    "    \n",
    "    final_query = f\"\"\"\n",
    "    You are a professional doctor. Based on the following context, provide a detailed analysis and comprehensive advice regarding the patient's condition. Only include the sections \"종합 분석\" and \"종합적인 조언\" in your response. Do not include headings or introductory/concluding sentences. Answer questions using only the provided context. If you do not know the answer, simply state that you do not know; do not speculate or make up information.:\\n\\n{total_analysis}\"\"\"\n",
    "    \n",
    "    final_prompt = ChatPromptTemplate.from_messages([\n",
    "        (\"system\",\n",
    "         final_query         \n",
    "         ),\n",
    "        (\"human\", \"{question}\")\n",
    "    ])\n",
    "    final_chain = (\n",
    "        {\"question\": RunnablePassthrough()}\n",
    "        | final_prompt\n",
    "        | llm\n",
    "        | StrOutputParser()\n",
    "    )\n",
    "    \n",
    "    response = final_chain.invoke(question)\n",
    "    return response"
   ]
  },
  {
   "cell_type": "code",
   "execution_count": null,
   "metadata": {},
   "outputs": [],
   "source": [
    "def exercise_reponse(id, question, retriever):\n",
    "    inbody_response = inbody_analysis(embedding_function, llm, analysis_prompt, id, question)\n",
    "    vital_response = vital_analysis(embedding_function, llm, analysis_prompt, id, question)\n",
    "    patients_response = patients_analysis(embedding_function, llm, id, question)\n",
    "    reports_resonse = reports_analysis(embedding_function, llm, analysis_prompt, id, question)\n",
    "    total_analysis = f\"\"\"\n",
    "    환자 정보 :\n",
    "    {patients_response}\n",
    "    \n",
    "    inbody 분석 : \n",
    "    {inbody_response}\n",
    "    \n",
    "    vital 분석 : \n",
    "    {vital_response}\n",
    "    \n",
    "    설문조사 분석 :\n",
    "    {reports_resonse} \n",
    "    \"\"\"\n",
    "    \n",
    "    final_query = f\"\"\"\n",
    "    As a medical expert, your task is to provide tailored exercise recommendations, including important precautions, based on the patient's medical conditions, fitness level, lifestyle factors, and other relevant health data.\n",
    "\n",
    "    Using the provided context, your goal is to:\n",
    "\n",
    "    Analyze the patient's condition comprehensively.\n",
    "    Recommend appropriate exercises tailored to the patient's needs.\n",
    "    Highlight important precautions and considerations during exercise to ensure safety and effectiveness.\n",
    "    Each recommendation and precaution should be supported by clear explanations, referencing clinical guidelines or research when applicable. If there is insufficient information, acknowledge this and suggest a method for the patient to obtain the necessary details, such as consulting with a healthcare provider.\n",
    "\n",
    "    Do not include personal opinions, speculative advice, or unsupported claims in your responses. Your role is to deliver expert, evidence-based exercise recommendations and safety guidelines tailored to the patient's unique health needs.\"\"\"\n",
    "    \n",
    "    final_prompt = ChatPromptTemplate.from_messages([\n",
    "        (\"system\",\n",
    "         final_query         \n",
    "         ),\n",
    "        (\"human\", \"{total_analysis}\")\n",
    "    ])\n",
    "\n",
    "    final_chain = (\n",
    "        {\n",
    "            \"context\": retriever | RunnableLambda(format_docs),\n",
    "            \"question\": RunnablePassthrough(),\n",
    "        }\n",
    "        | final_prompt\n",
    "        | llm\n",
    "        | StrOutputParser()\n",
    "    )\n",
    "    \n",
    "    response = final_chain.invoke(total_analysis)\n",
    "    return response"
   ]
  },
  {
   "cell_type": "code",
   "execution_count": null,
   "metadata": {},
   "outputs": [],
   "source": [
    "splitter = CharacterTextSplitter.from_tiktoken_encoder(\n",
    "        separator=\"\\n\",\n",
    "        chunk_size=1000,\n",
    "        chunk_overlap=200,\n",
    "    )\n",
    "loader = PyPDFLoader(\"./.cache/files/exercise.pdf\")\n",
    "\n",
    "docs = loader.load_and_split(text_splitter=splitter)\n",
    "vectorstore = FAISS.from_documents(docs, embedding_function)\n",
    "retriever = vectorstore.as_retriever()\n",
    "\n"
   ]
  },
  {
   "cell_type": "code",
   "execution_count": 9,
   "metadata": {
    "ExecuteTime": {
     "end_time": "2024-08-12T05:46:33.502223Z",
     "start_time": "2024-08-12T05:46:12.096289Z"
    }
   },
   "outputs": [
    {
     "name": "stdout",
     "output_type": "stream",
     "text": [
      "7에 대한 인바디 정보 분석 중...\n",
      "7에 대한 바이탈 정보 분석 중...\n",
      "7에 대한 환자 정보 분석 중...\n",
      "7에 대한 설문 정보 분석 중...\n",
      "종합 분석: 환자는 47세 남성으로, 최근 체중과 체지방률이 감소하고 근육량이 증가하는 긍정적인 변화를 보이고 있습니다. 체중은 121.6kg에서 118.4kg로 감소하였고, 체지방률도 36.6%에서 35.9%로 줄어들었습니다. 근육량은 증가하여 기초대사량도 함께 증가하는 추세입니다. 혈압은 5월 중순에 급격히 상승했으나 이후 안정세를 보이며 정상 범위로 회복되었습니다. 체온과 산소포화도는 정상 범위에 있어 호흡기 건강이 양호합니다. 그러나 운동 부족이 나타나며, 규칙적인 신체 활동이 필요합니다.\n",
      "\n",
      "종합적인 조언: 환자는 규칙적인 운동을 통해 심혈관 건강과 체중 관리를 지속해야 합니다. 주 3-5회, 30분 이상의 유산소 운동과 근력 운동을 병행하는 것이 좋습니다. 식단은 저염식, 고섬유질 식단을 유지하며, 과일, 채소, 통곡물, 단백질이 풍부한 음식을 포함해야 합니다. 정기적인 혈압 측정과 체중 관리를 통해 건강 상태를 지속적으로 모니터링하고, 필요시 전문가와 상담하여 개인 맞춤형 건강 관리 계획을 수립하는 것이 중요합니다. 정신적 건강 또한 신체 건강에 영향을 미치므로 스트레스 관리와 정신적 웰빙을 위한 활동을 권장합니다.\n"
     ]
    }
   ],
   "source": [
    "print(exercise_reponse('7','추천 운동', retriever))"
   ]
  },
  {
   "cell_type": "code",
   "execution_count": 10,
   "metadata": {
    "ExecuteTime": {
     "end_time": "2024-08-12T05:41:24.187531Z",
     "start_time": "2024-08-12T05:41:14.428430Z"
    }
   },
   "outputs": [
    {
     "name": "stdout",
     "output_type": "stream",
     "text": [
      "7에 대한 인바디 정보 분석 중...\n",
      "7에 대한 바이탈 정보 분석 중...\n",
      "7에 대한 환자 정보 분석 중...\n",
      "7에 대한 설문 정보 분석 중...\n",
      "종합 분석  \n",
      "환자는 47세 남성으로, 운동을 하지 않는 상태입니다. 인바디 및 생체 신호 분석에 따르면, 유산소 운동, 근력 운동, 유연성 운동, 균형 운동이 추천됩니다. 특히 걷기, 자전거 타기, 수영과 같은 유산소 운동은 심폐 기능을 향상시키고 체중 조절에 도움을 줄 수 있습니다. 근력 운동으로는 체중을 이용한 운동이나 저항 밴드를 활용한 운동이 적합하며, 이는 근육량 유지와 체중 조절에 기여할 것입니다. 스트레칭과 요가는 유연성을 높이고 부상 예방에 효과적입니다. \n",
      "\n",
      "종합적인 조언  \n",
      "운동을 시작하기 전에 반드시 의사와 상담하여 개인의 건강 상태에 맞는 운동 계획을 세우는 것이 중요합니다. 추천하는 운동은 다음과 같습니다: 매일 30분 이상 빠르게 걷기, 주 2-3회 자전거 타기 또는 수영하기, 주 2-3회 전신 근력 운동 실시, 매일 스트레칭 및 요가를 통해 유연성 향상. 이러한 운동들은 전반적인 건강 증진과 체중 감소에 도움을 줄 것입니다.\n"
     ]
    }
   ],
   "source": [
    "print(final_response('7','추천하는 운동을 알려줘'))"
   ]
  },
  {
   "cell_type": "code",
   "execution_count": 11,
   "metadata": {
    "ExecuteTime": {
     "end_time": "2024-08-12T05:41:47.765766Z",
     "start_time": "2024-08-12T05:41:24.188525Z"
    }
   },
   "outputs": [
    {
     "name": "stdout",
     "output_type": "stream",
     "text": [
      "7에 대한 인바디 정보 분석 중...\n",
      "7에 대한 바이탈 정보 분석 중...\n",
      "7에 대한 환자 정보 분석 중...\n",
      "7에 대한 설문 정보 분석 중...\n",
      "저는 요청하신 내용을 제공할 수 없습니다.\n"
     ]
    }
   ],
   "source": [
    "print(final_response('7','추천하는 식단들을 설명해'))"
   ]
  },
  {
   "cell_type": "code",
   "execution_count": null,
   "metadata": {},
   "outputs": [],
   "source": []
  }
 ],
 "metadata": {
  "colab": {
   "provenance": []
  },
  "kernelspec": {
   "display_name": "Python 3 (ipykernel)",
   "language": "python",
   "name": "python3"
  },
  "language_info": {
   "codemirror_mode": {
    "name": "ipython",
    "version": 3
   },
   "file_extension": ".py",
   "mimetype": "text/x-python",
   "name": "python",
   "nbconvert_exporter": "python",
   "pygments_lexer": "ipython3",
   "version": "3.11.9"
  }
 },
 "nbformat": 4,
 "nbformat_minor": 0
}

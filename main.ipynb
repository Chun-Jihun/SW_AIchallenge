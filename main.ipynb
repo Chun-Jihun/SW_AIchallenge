{
 "nbformat": 4,
 "nbformat_minor": 0,
 "metadata": {
  "colab": {
   "provenance": []
  },
  "kernelspec": {
   "name": "python3",
   "display_name": "Python 3 (ipykernel)",
   "language": "python"
  },
  "language_info": {
   "name": "python"
  }
 },
 "cells": [
  {
   "cell_type": "code",
   "source": [
    "import openai\n",
    "import os\n",
    "import pandas as pd\n",
    "import time\n",
    "from dotenv import load_dotenv\n",
    "from langchain_core.prompts import ChatPromptTemplate\n",
    "from langchain_core.output_parsers import StrOutputParser\n",
    "from langchain_core.runnables import RunnablePassthrough\n",
    "from langchain.vectorstores import FAISS\n",
    "from langchain_community.document_loaders.csv_loader import CSVLoader\n",
    "from langchain_openai import ChatOpenAI\n",
    "from langchain_openai import OpenAIEmbeddings\n",
    "from collections import defaultdict\n",
    "import json\n",
    "from langchain_text_splitters import RecursiveJsonSplitter\n",
    "\n",
    "load_dotenv()\n",
    "OPENAI_API_KEY = os.getenv('OPENAI_API_KEY')\n",
    "LANGCHAIN_TRACING_V2 = os.getenv('LANGCHAIN_TRACING_V2')\n",
    "LANGCHAIN_ENDPOINT = os.getenv('LANGCHAIN_ENDPOINT')\n",
    "LANGCHAIN_API_KEY = os.getenv('LANGCHAIN_API_KEY')\n",
    "LANGCHAIN_PROJECT = os.getenv('LANGCHAIN_PROJECT')"
   ],
   "metadata": {
    "id": "EgOaniCiayes",
    "ExecuteTime": {
     "end_time": "2024-08-12T05:46:08.851215Z",
     "start_time": "2024-08-12T05:46:08.845560Z"
    }
   },
   "outputs": [],
   "execution_count": 12
  },
  {
   "metadata": {
    "ExecuteTime": {
     "end_time": "2024-08-12T05:46:09.908751Z",
     "start_time": "2024-08-12T05:46:09.096575Z"
    }
   },
   "cell_type": "code",
   "source": [
    "embedding_function = OpenAIEmbeddings()\n",
    "\n",
    "# Create the language model\n",
    "llm = ChatOpenAI(model='gpt-4o-mini', temperature=0.0)\n",
    "\n",
    "analysis_prompt = ChatPromptTemplate.from_messages(\n",
    "[\n",
    "    (\n",
    "    \"system\",\n",
    "    \"\"\"\n",
    "    You are a professional doctor. Based on the following context, provide a detailed analysis and comprehensive advice regarding the patient's condition. Only include the sections \"종합 분석\" and \"종합적인 조언\" in your response. Do not include headings or introductory/concluding sentences. Answer questions using only the provided context. If you do not know the answer, simply state that you do not know; do not speculate or make up information.:\\n\\n{context}\"\n",
    "     \"\"\",\n",
    "     ),\n",
    "    (\"human\", \"{question}\")\n",
    "    ]\n",
    ")"
   ],
   "outputs": [],
   "execution_count": 13
  },
  {
   "metadata": {
    "ExecuteTime": {
     "end_time": "2024-08-12T05:46:09.914415Z",
     "start_time": "2024-08-12T05:46:09.909751Z"
    }
   },
   "cell_type": "code",
   "source": [
    "def csv_files_to_json(file_paths, encoding='cp949'):\n",
    "    # Initialize a default dictionary to store dictionaries for each ID\n",
    "    json_data = defaultdict(lambda: defaultdict(list))\n",
    "    \n",
    "    # Iterate through each CSV file\n",
    "    for file_path in file_paths:\n",
    "        # Extract the file name without extension to use as a key\n",
    "        file_key = file_path.split('/')[-1].split('.')[0]\n",
    "        \n",
    "        # Read the CSV file into a DataFrame with cp949 encoding\n",
    "        df = pd.read_csv(file_path, encoding=encoding)\n",
    "        \n",
    "        # Group the data by 'id'\n",
    "        for id, group in df.groupby('id'):\n",
    "            # Convert the group data to a dictionary without the 'id' column\n",
    "            record = group.drop(columns=['id']).to_dict(orient='records')\n",
    "            # Append the record under the corresponding file name for the given id\n",
    "            json_data[str(id)][file_key].extend(record)\n",
    "    \n",
    "    # Convert the default dictionary to a regular dictionary and then to a JSON string\n",
    "    json_str = json.dumps(dict(json_data), indent=4)\n",
    "    \n",
    "    return json_str"
   ],
   "outputs": [],
   "execution_count": 14
  },
  {
   "metadata": {
    "ExecuteTime": {
     "end_time": "2024-08-12T05:46:09.919842Z",
     "start_time": "2024-08-12T05:46:09.914931Z"
    }
   },
   "cell_type": "code",
   "source": [
    "def inbody_analysis(embedding_function, llm, prompt, id, question):\n",
    "    \n",
    "    # file_paths = ['./data/inbody.csv', './data/patients.csv','./data/reports.csv','./data/vital.csv']\n",
    "    file_paths = ['./data/col_value_change/inbody.csv']\n",
    "    \n",
    "    inbody_json = csv_files_to_json(file_paths)\n",
    "    json_data = json.loads(inbody_json)\n",
    "    \n",
    "    # 특정 id의 데이터 불러오기 (예: id가 '1'인 경우)\n",
    "    target_id = id\n",
    "    \n",
    "    # 해당 id가 존재하는지 확인\n",
    "    if target_id in json_data:\n",
    "        id_data = json_data[target_id]\n",
    "        print(f\"{target_id}에 대한 인바디 정보 분석 중...\")\n",
    "        json_output = json.dumps(id_data)\n",
    "    else:\n",
    "        print(f\"ID {target_id} not found.\")\n",
    "    \n",
    "    json_data = json.loads(json_output)\n",
    "    \n",
    "    splitter = RecursiveJsonSplitter(max_chunk_size=300)\n",
    "        \n",
    "    # The splitter can also output documents\n",
    "    docs = splitter.create_documents(texts=[json_data])\n",
    "    \n",
    "    # or a list of strings\n",
    "    # texts = splitter.split_text(json_data=json_data)\n",
    "\n",
    "    #벡터스토어 생성\n",
    "    inbody_vectorstore = FAISS.from_documents(docs, embedding_function)\n",
    "    #retriever\n",
    "    inbody_retriever = inbody_vectorstore.as_retriever()\n",
    "#     inbody_query = f\"\"\"\n",
    "#     context에 있는 정보를 정리하여 간단하게 출력하라. 현재 날짜는 :{time.strftime('%Y.%m.%d')}이며 context의 pat_sex는 환자의 성별, pat_birth는 환자의 탄생연도를 뜻한다.\\n\\n\n",
    "#     \"\"\"\n",
    "#     \n",
    "#     inbody_query += \"{context}\"\n",
    "#     prompt = ChatPromptTemplate.from_messages(\n",
    "# [\n",
    "#     (\n",
    "#     \"system\",\n",
    "#     inbody_query,\n",
    "#      ),\n",
    "#     (\"human\", \"{question}\")\n",
    "#     ]\n",
    "# )\n",
    "    \n",
    "    inbody_chain = (\n",
    "        {\"context\": inbody_retriever, \"question\": RunnablePassthrough()}\n",
    "        | prompt\n",
    "        | llm\n",
    "        | StrOutputParser()\n",
    "    )\n",
    "    \n",
    "    inbody_response = inbody_chain.invoke(question)\n",
    "    return inbody_response"
   ],
   "outputs": [],
   "execution_count": 15
  },
  {
   "metadata": {
    "ExecuteTime": {
     "end_time": "2024-08-12T05:46:09.965052Z",
     "start_time": "2024-08-12T05:46:09.960571Z"
    }
   },
   "cell_type": "code",
   "source": [
    "def vital_analysis(embedding_function, llm, prompt, id, question):\n",
    "    \n",
    "    # file_paths = ['./data/inbody.csv', './data/patients.csv','./data/reports.csv','./data/vital.csv']\n",
    "    file_paths = ['./data/col_value_change/vital.csv']\n",
    "    \n",
    "    vital_json = csv_files_to_json(file_paths)\n",
    "    json_data = json.loads(vital_json)\n",
    "    \n",
    "    # 특정 id의 데이터 불러오기 (예: id가 '1'인 경우)\n",
    "    target_id = id\n",
    "    \n",
    "    # 해당 id가 존재하는지 확인\n",
    "    if target_id in json_data:\n",
    "        id_data = json_data[target_id]\n",
    "        print(f\"{target_id}에 대한 바이탈 정보 분석 중...\")\n",
    "        json_output = json.dumps(id_data)\n",
    "    else:\n",
    "        print(f\"ID {target_id} not found.\")\n",
    "    \n",
    "    json_data = json.loads(json_output)\n",
    "    \n",
    "    splitter = RecursiveJsonSplitter(max_chunk_size=300)\n",
    "    \n",
    "    \n",
    "    # The splitter can also output documents\n",
    "    docs = splitter.create_documents(texts=[json_data])\n",
    "    \n",
    "    # or a list of strings\n",
    "    texts = splitter.split_text(json_data=json_data)\n",
    "    #벡터스토어 생성\n",
    "    vital_vectorstore = FAISS.from_documents(docs, embedding_function)\n",
    "    #retriever\n",
    "    vital_retriever = vital_vectorstore.as_retriever()\n",
    "#     vital_query = f\"\"\"\n",
    "#     context에 있는 정보를 정리하여 간단하게 출력하라. 현재 날짜는 :{time.strftime('%Y.%m.%d')}이며 context의 pat_sex는 환자의 성별, pat_birth는 환자의 탄생연도를 뜻한다.\\n\\n\n",
    "#     \"\"\"\n",
    "#     \n",
    "#     vital_query += \"{context}\"\n",
    "#     prompt = ChatPromptTemplate.from_messages(\n",
    "# [\n",
    "#     (\n",
    "#     \"system\",\n",
    "#     vital_query,\n",
    "#      ),\n",
    "#     (\"human\", \"{question}\")\n",
    "#     ]\n",
    "# )\n",
    "    \n",
    "    vital_chain = (\n",
    "        {\"context\": vital_retriever, \"question\": RunnablePassthrough()}\n",
    "        | prompt\n",
    "        | llm\n",
    "        | StrOutputParser()\n",
    "    )\n",
    "    \n",
    "    vital_response = vital_chain.invoke(question)\n",
    "    return vital_response"
   ],
   "outputs": [],
   "execution_count": 16
  },
  {
   "metadata": {
    "ExecuteTime": {
     "end_time": "2024-08-12T05:46:10.244200Z",
     "start_time": "2024-08-12T05:46:10.239237Z"
    }
   },
   "cell_type": "code",
   "source": [
    "def patients_analysis(embedding_function, llm, id, question):\n",
    "    \n",
    "    # file_paths = ['./data/inbody.csv', './data/patients.csv','./data/reports.csv','./data/vital.csv']\n",
    "    file_paths = ['./data/col_value_change/patients.csv']\n",
    "    \n",
    "    patients_json = csv_files_to_json(file_paths)\n",
    "    json_data = json.loads(patients_json)\n",
    "    \n",
    "    # 특정 id의 데이터 불러오기 (예: id가 '1'인 경우)\n",
    "    target_id = id\n",
    "    \n",
    "    # 해당 id가 존재하는지 확인\n",
    "    if target_id in json_data:\n",
    "        id_data = json_data[target_id]\n",
    "        print(f\"{target_id}에 대한 환자 정보 분석 중...\")\n",
    "        json_output = json.dumps(id_data)\n",
    "    else:\n",
    "        print(f\"ID {target_id} not found.\")\n",
    "    \n",
    "    json_data = json.loads(json_output)\n",
    "    \n",
    "    splitter = RecursiveJsonSplitter(max_chunk_size=300)\n",
    "    \n",
    "    \n",
    "    # The splitter can also output documents\n",
    "    docs = splitter.create_documents(texts=[json_data])\n",
    "    \n",
    "    # or a list of strings\n",
    "    texts = splitter.split_text(json_data=json_data)\n",
    "    #벡터스토어 생성\n",
    "    patients_vectorstore = FAISS.from_documents(docs, embedding_function)\n",
    "    #retriever\n",
    "    patients_retriever = patients_vectorstore.as_retriever()\n",
    "    \n",
    "    patients_query = f\"\"\"\n",
    "    context에 있는 정보를 정리하여 간단하게 출력하라. 현재 날짜는 :{time.strftime('%Y.%m.%d')}이며 context의 pat_sex는 환자의 성별, pat_birth는 환자의 탄생연도를 뜻한다.\\n\\n\n",
    "    \"\"\"\n",
    "    \n",
    "    patients_query += \"{context}\"\n",
    "    prompt = ChatPromptTemplate.from_messages(\n",
    "[\n",
    "    (\n",
    "    \"system\",\n",
    "    patients_query,\n",
    "     ),\n",
    "    (\"human\", \"{question}\")\n",
    "    ]\n",
    ")\n",
    "    \n",
    "    patients_chain = (\n",
    "        {\"context\": patients_retriever, \"question\": RunnablePassthrough()}\n",
    "        | prompt\n",
    "        | llm\n",
    "        | StrOutputParser()\n",
    "    )\n",
    "    \n",
    "    patients_response = patients_chain.invoke(question)\n",
    "    return patients_response"
   ],
   "outputs": [],
   "execution_count": 17
  },
  {
   "metadata": {
    "ExecuteTime": {
     "end_time": "2024-08-12T05:46:10.583468Z",
     "start_time": "2024-08-12T05:46:10.579726Z"
    }
   },
   "cell_type": "code",
   "source": [
    "def reports_analysis(embedding_function, llm, prompt, id, question):\n",
    "    \n",
    "    # file_paths = ['./data/inbody.csv', './data/reports.csv','./data/reports.csv','./data/vital.csv']\n",
    "    file_paths = ['./data/col_value_change/reports.csv']\n",
    "    \n",
    "    reports_json = csv_files_to_json(file_paths)\n",
    "    json_data = json.loads(reports_json)\n",
    "    \n",
    "    # 특정 id의 데이터 불러오기 (예: id가 '1'인 경우)\n",
    "    target_id = id\n",
    "    \n",
    "    # 해당 id가 존재하는지 확인\n",
    "    if target_id in json_data:\n",
    "        id_data = json_data[target_id]\n",
    "        print(f\"{target_id}에 대한 설문 정보 분석 중...\")\n",
    "        json_output = json.dumps(id_data)\n",
    "    else:\n",
    "        print(f\"ID {target_id} not found.\")\n",
    "    \n",
    "    json_data = json.loads(json_output)\n",
    "    \n",
    "    splitter = RecursiveJsonSplitter(max_chunk_size=300)\n",
    "    \n",
    "    \n",
    "    # The splitter can also output documents\n",
    "    docs = splitter.create_documents(texts=[json_data])\n",
    "    \n",
    "    # or a list of strings\n",
    "    texts = splitter.split_text(json_data=json_data)\n",
    "    #벡터스토어 생성\n",
    "    reports_vectorstore = FAISS.from_documents(docs, embedding_function)\n",
    "    #retriever\n",
    "    reports_retriever = reports_vectorstore.as_retriever()\n",
    "    \n",
    "#     reports_query = f\"\"\"\n",
    "#     context에 있는 정보를 정리하여 간단하게 출력하라. 현재 날짜는 :{time.strftime('%Y.%m.%d')}이며 context의 pat_sex는 환자의 성별, pat_birth는 환자의 탄생연도를 뜻한다.\\n\\n\n",
    "#     \"\"\"\n",
    "#     \n",
    "#     reports_query += \"{context}\"\n",
    "#     prompt = ChatPromptTemplate.from_messages(\n",
    "# [\n",
    "#     (\n",
    "#     \"system\",\n",
    "#     reports_query,\n",
    "#      ),\n",
    "#     (\"human\", \"{question}\")\n",
    "#     ]\n",
    "# )\n",
    "    \n",
    "    reports_chain = (\n",
    "        {\"context\": reports_retriever, \"question\": RunnablePassthrough()}\n",
    "        | prompt\n",
    "        | llm\n",
    "        | StrOutputParser()\n",
    "    )\n",
    "    \n",
    "    reports_response = reports_chain.invoke(question)\n",
    "    return reports_response"
   ],
   "outputs": [],
   "execution_count": 18
  },
  {
   "metadata": {
    "ExecuteTime": {
     "end_time": "2024-08-12T05:46:10.935898Z",
     "start_time": "2024-08-12T05:46:10.931646Z"
    }
   },
   "cell_type": "code",
   "source": [
    "def final_response(id, question):\n",
    "    inbody_response = inbody_analysis(embedding_function, llm, analysis_prompt, id, question)\n",
    "    vital_response = vital_analysis(embedding_function, llm, analysis_prompt, id, question)\n",
    "    patients_response = patients_analysis(embedding_function, llm, id, question)\n",
    "    reports_resonse = reports_analysis(embedding_function, llm, analysis_prompt, id, question)\n",
    "    total_analysis = f\"\"\"\n",
    "    환자 정보 :\n",
    "    {patients_response}\n",
    "    \n",
    "    inbody 분석 : \n",
    "    {inbody_response}\n",
    "    \n",
    "    vital 분석 : \n",
    "    {vital_response}\n",
    "    \n",
    "    설문조사 분석 :\n",
    "    {reports_resonse} \n",
    "    \"\"\"\n",
    "    \n",
    "    final_query = f\"\"\"\n",
    "    You are a professional doctor. Based on the following context, provide a detailed analysis and comprehensive advice regarding the patient's condition. Only include the sections \"종합 분석\" and \"종합적인 조언\" in your response. Do not include headings or introductory/concluding sentences. Answer questions using only the provided context. If you do not know the answer, simply state that you do not know; do not speculate or make up information.:\\n\\n{total_analysis}\"\"\"\n",
    "    \n",
    "    final_prompt = ChatPromptTemplate.from_messages([\n",
    "        (\"system\",\n",
    "         final_query         \n",
    "         ),\n",
    "        (\"human\", \"{question}\")\n",
    "    ])\n",
    "    final_chain = (\n",
    "        {\"question\": RunnablePassthrough()}\n",
    "        | final_prompt\n",
    "        | llm\n",
    "        | StrOutputParser()\n",
    "    )\n",
    "    \n",
    "    response = final_chain.invoke(question)\n",
    "    return response"
   ],
   "outputs": [],
   "execution_count": 19
  },
  {
   "metadata": {
    "ExecuteTime": {
     "end_time": "2024-08-12T05:46:33.502223Z",
     "start_time": "2024-08-12T05:46:12.096289Z"
    }
   },
   "cell_type": "code",
   "source": "print(final_response('7','건강정보에 대한 종합적인 소견을 말해'))",
   "outputs": [
    {
     "name": "stdout",
     "output_type": "stream",
     "text": [
      "7에 대한 인바디 정보 분석 중...\n",
      "7에 대한 바이탈 정보 분석 중...\n",
      "7에 대한 환자 정보 분석 중...\n",
      "7에 대한 설문 정보 분석 중...\n",
      "환자의 건강 상태는 전반적으로 긍정적인 변화가 나타나고 있으나, 여전히 주의가 필요한 부분이 있습니다. 체중은 감소하고 있으며, 체지방률도 줄어드는 추세입니다. 근육량은 증가하고 있어 신진대사가 활발해지고 있는 것으로 보입니다. 그러나 BMI가 비만 범주에 속하고, 고혈압이 관찰되는 등 심혈관 질환의 위험 요소가 존재합니다. \n",
      "\n",
      "정기적인 건강 검진을 통해 혈압, 혈당, 콜레스테롤 수치를 모니터링하고, 필요시 전문가의 상담을 받는 것이 중요합니다. 또한, 체중 감소와 체지방률 감소를 지속하기 위해 균형 잡힌 식단과 규칙적인 운동을 병행해야 하며, 특히 저항 운동을 포함한 운동 프로그램을 고려하는 것이 좋습니다. 스트레스 관리와 충분한 수면도 건강 유지에 중요한 요소입니다. \n",
      "\n",
      "현재로서는 특별한 치료가 필요하지 않지만, 향후 증상이 발생할 경우 즉시 의료 전문가와 상담하는 것이 바람직합니다.\n"
     ]
    }
   ],
   "execution_count": 20
  },
  {
   "metadata": {
    "ExecuteTime": {
     "end_time": "2024-08-12T05:41:24.187531Z",
     "start_time": "2024-08-12T05:41:14.428430Z"
    }
   },
   "cell_type": "code",
   "source": "print(final_response('7','추천하는 운동을 알려줘'))",
   "outputs": [
    {
     "name": "stdout",
     "output_type": "stream",
     "text": [
      "7에 대한 인바디 정보 분석 중...\n",
      "7에 대한 바이탈 정보 분석 중...\n",
      "7에 대한 환자 정보 분석 중...\n",
      "7에 대한 설문 정보 분석 중...\n",
      "종합 분석  \n",
      "환자의 운동 추천 목록은 다양한 운동 형태를 포함하고 있으며, 각 운동은 특정한 건강 이점이 있습니다. 걷기는 심혈관 건강에 좋고, 조깅은 체력 증진과 스트레스 해소에 효과적입니다. 수영은 관절에 부담이 적으면서 전신 운동을 통해 근력과 유연성을 동시에 기를 수 있습니다. 요가는 유연성을 높이고 정신적인 안정에 기여하며, 근력 운동은 근육량을 증가시켜 기초 대사량을 높이는 데 도움을 줍니다. 이러한 운동들은 환자의 체력과 취향에 맞춰 선택할 수 있으며, 꾸준한 실천이 중요합니다.\n",
      "\n",
      "종합적인 조언  \n",
      "환자는 자신의 체력 수준과 개인적인 취향을 고려하여 위의 운동 중에서 선택하는 것이 좋습니다. 운동을 시작하기 전에 가벼운 스트레칭으로 몸을 풀고, 운동 후에는 충분한 휴식을 취하는 것이 중요합니다. 또한, 운동의 빈도와 강도를 점진적으로 증가시키며, 필요시 전문가의 조언을 받는 것이 바람직합니다. 건강한 식습관과 함께 운동을 병행하면 더욱 효과적인 결과를 얻을 수 있습니다.\n"
     ]
    }
   ],
   "execution_count": 10
  },
  {
   "metadata": {
    "ExecuteTime": {
     "end_time": "2024-08-12T05:41:47.765766Z",
     "start_time": "2024-08-12T05:41:24.188525Z"
    }
   },
   "cell_type": "code",
   "source": "print(final_response('7','추천하는 식단들을 설명해'))",
   "outputs": [
    {
     "name": "stdout",
     "output_type": "stream",
     "text": [
      "7에 대한 인바디 정보 분석 중...\n",
      "7에 대한 바이탈 정보 분석 중...\n",
      "7에 대한 환자 정보 분석 중...\n",
      "7에 대한 설문 정보 분석 중...\n",
      "I do not know.\n"
     ]
    }
   ],
   "execution_count": 11
  },
  {
   "metadata": {},
   "cell_type": "code",
   "source": "",
   "outputs": [],
   "execution_count": null
  }
 ]
}

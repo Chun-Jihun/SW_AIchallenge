{
 "nbformat": 4,
 "nbformat_minor": 0,
 "metadata": {
  "colab": {
   "provenance": []
  },
  "kernelspec": {
   "name": "python3",
   "display_name": "Python 3 (ipykernel)",
   "language": "python"
  },
  "language_info": {
   "name": "python"
  }
 },
 "cells": [
  {
   "cell_type": "code",
   "metadata": {
    "id": "5Wu3vdgtavry",
    "ExecuteTime": {
     "end_time": "2024-08-08T09:30:57.763698Z",
     "start_time": "2024-08-08T09:30:57.759711Z"
    }
   },
   "source": [
    "#!pip install openai==0.28\n",
    "#!pip install python-dotenv"
   ],
   "outputs": [],
   "execution_count": 4
  },
  {
   "cell_type": "code",
   "source": [
    "import openai\n",
    "import os\n",
    "import pandas as pd\n",
    "import time\n",
    "from dotenv import load_dotenv\n",
    "from langchain_core.prompts import ChatPromptTemplate\n",
    "from langchain_core.output_parsers import StrOutputParser\n",
    "from langchain_core.runnables import RunnablePassthrough\n",
    "from langchain.vectorstores import FAISS\n",
    "from langchain_community.document_loaders.csv_loader import CSVLoader\n",
    "from langchain_openai import ChatOpenAI\n",
    "from langchain_openai import OpenAIEmbeddings\n",
    "from collections import defaultdict\n",
    "import json\n",
    "from langchain_text_splitters import RecursiveJsonSplitter\n",
    "\n",
    "load_dotenv()\n",
    "OPENAI_API_KEY = os.getenv('OPENAI_API_KEY')"
   ],
   "metadata": {
    "id": "EgOaniCiayes",
    "ExecuteTime": {
     "end_time": "2024-08-09T07:14:36.958417Z",
     "start_time": "2024-08-09T07:14:36.952546Z"
    }
   },
   "outputs": [],
   "execution_count": 61
  },
  {
   "metadata": {
    "ExecuteTime": {
     "end_time": "2024-08-09T07:14:37.933536Z",
     "start_time": "2024-08-09T07:14:37.097368Z"
    }
   },
   "cell_type": "code",
   "source": [
    "embedding_function = OpenAIEmbeddings()\n",
    "\n",
    "# Create the language model\n",
    "llm = ChatOpenAI(model='gpt-4o', temperature=0.0)\n",
    "\n",
    "analysis_prompt = ChatPromptTemplate.from_messages(\n",
    "[\n",
    "    (\n",
    "    \"system\",\n",
    "    \"\"\"\n",
    "    You are a professional doctor. Based on the following context, provide a detailed analysis and comprehensive advice regarding the patient's condition. Only include the sections \"종합 분석\" and \"종합적인 조언\" in your response. Do not include headings or introductory/concluding sentences. Answer questions using only the provided context. If you do not know the answer, simply state that you do not know; do not speculate or make up information.:\\n\\n{context}\"\n",
    "     \"\"\",\n",
    "     ),\n",
    "    (\"human\", \"{question}\")\n",
    "    ]\n",
    ")"
   ],
   "outputs": [],
   "execution_count": 62
  },
  {
   "metadata": {
    "ExecuteTime": {
     "end_time": "2024-08-09T07:14:37.938039Z",
     "start_time": "2024-08-09T07:14:37.934535Z"
    }
   },
   "cell_type": "code",
   "source": [
    "def csv_files_to_json(file_paths, encoding='cp949'):\n",
    "    # Initialize a default dictionary to store dictionaries for each ID\n",
    "    json_data = defaultdict(lambda: defaultdict(list))\n",
    "    \n",
    "    # Iterate through each CSV file\n",
    "    for file_path in file_paths:\n",
    "        # Extract the file name without extension to use as a key\n",
    "        file_key = file_path.split('/')[-1].split('.')[0]\n",
    "        \n",
    "        # Read the CSV file into a DataFrame with cp949 encoding\n",
    "        df = pd.read_csv(file_path, encoding=encoding)\n",
    "        \n",
    "        # Group the data by 'id'\n",
    "        for id, group in df.groupby('id'):\n",
    "            # Convert the group data to a dictionary without the 'id' column\n",
    "            record = group.drop(columns=['id']).to_dict(orient='records')\n",
    "            # Append the record under the corresponding file name for the given id\n",
    "            json_data[str(id)][file_key].extend(record)\n",
    "    \n",
    "    # Convert the default dictionary to a regular dictionary and then to a JSON string\n",
    "    json_str = json.dumps(dict(json_data), indent=4)\n",
    "    \n",
    "    return json_str"
   ],
   "outputs": [],
   "execution_count": 63
  },
  {
   "metadata": {
    "ExecuteTime": {
     "end_time": "2024-08-09T07:09:51.029594Z",
     "start_time": "2024-08-09T07:09:51.008240Z"
    }
   },
   "cell_type": "code",
   "source": [
    "# # file_paths = ['./data/inbody.csv', './data/patients.csv','./data/reports.csv','./data/vital.csv']\n",
    "# file_paths = ['./data/inbody.csv', './data/patients.csv', './data/vital.csv']\n",
    "# \n",
    "# inbody_json = csv_files_to_json(file_paths)\n",
    "# json_data = json.loads(inbody_json)\n",
    "# \n",
    "# # 특정 id의 데이터 불러오기 (예: id가 '1'인 경우)\n",
    "# target_id = '1'\n",
    "# \n",
    "# # 해당 id가 존재하는지 확인\n",
    "# if target_id in json_data:\n",
    "#     id_data = json_data[target_id]\n",
    "#     print(f\"Data for ID {target_id}:\")\n",
    "#     json_output = json.dumps(id_data)\n",
    "# else:\n",
    "#     print(f\"ID {target_id} not found.\")\n",
    "# \n",
    "# json_data = json.loads(json_output)\n",
    "# \n",
    "# splitter = RecursiveJsonSplitter(max_chunk_size=300)\n",
    "# \n",
    "# \n",
    "# # The splitter can also output documents\n",
    "# docs = splitter.create_documents(texts=[json_data])\n",
    "# \n",
    "# # or a list of strings\n",
    "# texts = splitter.split_text(json_data=json_data)\n",
    "# print(texts[0])\n",
    "# print(texts[1])"
   ],
   "outputs": [
    {
     "name": "stdout",
     "output_type": "stream",
     "text": [
      "Data for ID 1:\n",
      "{\"inbody\": [{\"date\": \"2024-06-12\", \"time\": \"0:07:42\", \"body_fat_mass\": 15.2, \"total_body_water\": 28.3, \"fat_free_mass\": 38.6, \"skeletal_muscle_mass\": 20.8, \"soft_lean_mass\": 36.4, \"bmi\": 21.1, \"percent_body_fat\": 28.2, \"waist_hip_ratio\": 0.86, \"bmc\": 2.15, \"bcm\": 24.9, \"bmr\": 1203, \"visceral_fat_level\": 6}, {\"date\": \"2024-07-03\", \"time\": \"23:42:07\", \"body_fat_mass\": 17.0, \"total_body_water\": 26.7, \"fat_free_mass\": 36.4, \"skeletal_muscle_mass\": 19.5, \"soft_lean_mass\": 34.3, \"bmi\": 22.3, \"percent_body_fat\": 31.8, \"waist_hip_ratio\": 0.87, \"bmc\": 2.06, \"bcm\": 23.5, \"bmr\": 1156, \"visceral_fat_level\": 7}, {\"date\": \"2024-07-17\", \"time\": \"8:55:22\", \"body_fat_mass\": 16.8, \"total_body_water\": 26.5, \"fat_free_mass\": 36.1, \"skeletal_muscle_mass\": 19.3, \"soft_lean_mass\": 34.1, \"bmi\": 22.1, \"percent_body_fat\": 31.8, \"waist_hip_ratio\": 0.86, \"bmc\": 2.05, \"bcm\": 23.2, \"bmr\": 1149, \"visceral_fat_level\": 7}]}\n",
      "{\"patients\": [{\"pat_sex\": \"F\", \"pat_birth\": 1960}], \"vital\": [{\"time\": \"2024-05-02\", \"antihypertensives\": 1, \"fasting\": 1, \"sbp\": 122, \"dbp\": 75, \"spo2\": 98, \"temp\": 36.2, \"weight\": 54.9, \"height\": 155.3, \"glucose\": 99, \"pulse\": 70}, {\"time\": \"2024-05-22\", \"antihypertensives\": 1, \"fasting\": 1, \"sbp\": 112, \"dbp\": 71, \"spo2\": 98, \"temp\": 36.5, \"weight\": 53.5, \"height\": 154.7, \"glucose\": 107, \"pulse\": 67}, {\"time\": \"2024-06-12\", \"antihypertensives\": 0, \"fasting\": 1, \"sbp\": 112, \"dbp\": 64, \"spo2\": 96, \"temp\": 35.8, \"weight\": 53.3, \"height\": 155.3, \"glucose\": 122, \"pulse\": 71}, {\"time\": \"2024-07-03\", \"antihypertensives\": 0, \"fasting\": 1, \"sbp\": 112, \"dbp\": 59, \"spo2\": 97, \"temp\": 36.6, \"weight\": 52.6, \"height\": 155.6, \"glucose\": 115, \"pulse\": 69}, {\"time\": \"2024-07-15\", \"antihypertensives\": 0, \"fasting\": 1, \"sbp\": 115, \"dbp\": 62, \"spo2\": 97, \"temp\": 36.2, \"weight\": 53.3, \"height\": 157.0, \"glucose\": 111, \"pulse\": 64}]}\n"
     ]
    }
   ],
   "execution_count": 50
  },
  {
   "metadata": {
    "ExecuteTime": {
     "end_time": "2024-08-09T07:14:44.023865Z",
     "start_time": "2024-08-09T07:14:44.018795Z"
    }
   },
   "cell_type": "code",
   "source": [
    "def inbody_analysis(embedding_function, llm, prompt, id, question):\n",
    "    \n",
    "    # file_paths = ['./data/inbody.csv', './data/patients.csv','./data/reports.csv','./data/vital.csv']\n",
    "    file_paths = ['./data/inbody.csv']\n",
    "    \n",
    "    inbody_json = csv_files_to_json(file_paths)\n",
    "    json_data = json.loads(inbody_json)\n",
    "    \n",
    "    # 특정 id의 데이터 불러오기 (예: id가 '1'인 경우)\n",
    "    target_id = id\n",
    "    \n",
    "    # 해당 id가 존재하는지 확인\n",
    "    if target_id in json_data:\n",
    "        id_data = json_data[target_id]\n",
    "        print(f\"{target_id}에 대한 인바디 정보 분석 중...\")\n",
    "        json_output = json.dumps(id_data)\n",
    "    else:\n",
    "        print(f\"ID {target_id} not found.\")\n",
    "    \n",
    "    json_data = json.loads(json_output)\n",
    "    \n",
    "    splitter = RecursiveJsonSplitter(max_chunk_size=300)\n",
    "        \n",
    "    # The splitter can also output documents\n",
    "    docs = splitter.create_documents(texts=[json_data])\n",
    "    \n",
    "    # or a list of strings\n",
    "    # texts = splitter.split_text(json_data=json_data)\n",
    "\n",
    "    #벡터스토어 생성\n",
    "    inbody_vectorstore = FAISS.from_documents(docs, embedding_function)\n",
    "    #retriever\n",
    "    inbody_retriever = inbody_vectorstore.as_retriever()\n",
    "    \n",
    "    inbody_chain = (\n",
    "        {\"context\": inbody_retriever, \"question\": RunnablePassthrough()}\n",
    "        | prompt\n",
    "        | llm\n",
    "        | StrOutputParser()\n",
    "    )\n",
    "    \n",
    "    inbody_response = inbody_chain.invoke(question)\n",
    "    return inbody_response"
   ],
   "outputs": [],
   "execution_count": 64
  },
  {
   "metadata": {
    "ExecuteTime": {
     "end_time": "2024-08-09T07:14:44.257525Z",
     "start_time": "2024-08-09T07:14:44.252993Z"
    }
   },
   "cell_type": "code",
   "source": [
    "def vital_analysis(embedding_function, llm, prompt, id, question):\n",
    "    \n",
    "    # file_paths = ['./data/inbody.csv', './data/patients.csv','./data/reports.csv','./data/vital.csv']\n",
    "    file_paths = ['./data/vital.csv']\n",
    "    \n",
    "    vital_json = csv_files_to_json(file_paths)\n",
    "    json_data = json.loads(vital_json)\n",
    "    \n",
    "    # 특정 id의 데이터 불러오기 (예: id가 '1'인 경우)\n",
    "    target_id = id\n",
    "    \n",
    "    # 해당 id가 존재하는지 확인\n",
    "    if target_id in json_data:\n",
    "        id_data = json_data[target_id]\n",
    "        print(f\"{target_id}에 대한 바이탈 정보 분석 중...\")\n",
    "        json_output = json.dumps(id_data)\n",
    "    else:\n",
    "        print(f\"ID {target_id} not found.\")\n",
    "    \n",
    "    json_data = json.loads(json_output)\n",
    "    \n",
    "    splitter = RecursiveJsonSplitter(max_chunk_size=300)\n",
    "    \n",
    "    \n",
    "    # The splitter can also output documents\n",
    "    docs = splitter.create_documents(texts=[json_data])\n",
    "    \n",
    "    # or a list of strings\n",
    "    texts = splitter.split_text(json_data=json_data)\n",
    "    #벡터스토어 생성\n",
    "    vital_vectorstore = FAISS.from_documents(docs, embedding_function)\n",
    "    #retriever\n",
    "    vital_retriever = vital_vectorstore.as_retriever()\n",
    "    \n",
    "    vital_chain = (\n",
    "        {\"context\": vital_retriever, \"question\": RunnablePassthrough()}\n",
    "        | prompt\n",
    "        | llm\n",
    "        | StrOutputParser()\n",
    "    )\n",
    "    \n",
    "    vital_response = vital_chain.invoke(question)\n",
    "    return vital_response"
   ],
   "outputs": [],
   "execution_count": 65
  },
  {
   "metadata": {
    "ExecuteTime": {
     "end_time": "2024-08-09T07:14:44.648866Z",
     "start_time": "2024-08-09T07:14:44.644533Z"
    }
   },
   "cell_type": "code",
   "source": [
    "def patients_analysis(embedding_function, llm, id, question):\n",
    "    \n",
    "    # file_paths = ['./data/inbody.csv', './data/patients.csv','./data/reports.csv','./data/vital.csv']\n",
    "    file_paths = ['./data/patients.csv']\n",
    "    \n",
    "    patients_json = csv_files_to_json(file_paths)\n",
    "    json_data = json.loads(patients_json)\n",
    "    \n",
    "    # 특정 id의 데이터 불러오기 (예: id가 '1'인 경우)\n",
    "    target_id = id\n",
    "    \n",
    "    # 해당 id가 존재하는지 확인\n",
    "    if target_id in json_data:\n",
    "        id_data = json_data[target_id]\n",
    "        print(f\"{target_id}에 대한 환자 정보 분석 중...\")\n",
    "        json_output = json.dumps(id_data)\n",
    "    else:\n",
    "        print(f\"ID {target_id} not found.\")\n",
    "    \n",
    "    json_data = json.loads(json_output)\n",
    "    \n",
    "    splitter = RecursiveJsonSplitter(max_chunk_size=300)\n",
    "    \n",
    "    \n",
    "    # The splitter can also output documents\n",
    "    docs = splitter.create_documents(texts=[json_data])\n",
    "    \n",
    "    # or a list of strings\n",
    "    texts = splitter.split_text(json_data=json_data)\n",
    "    #벡터스토어 생성\n",
    "    patients_vectorstore = FAISS.from_documents(docs, embedding_function)\n",
    "    #retriever\n",
    "    patients_retriever = patients_vectorstore.as_retriever()\n",
    "    \n",
    "    patients_query = f\"\"\"\n",
    "    context에 있는 정보를 정리하여 간단하게 출력하라. 현재 날짜는 :{time.strftime('%Y.%m.%d')}이며 context의 pat_sex는 환자의 성별, pat_birth는 환자의 탄생연도를 뜻한다.\\n\\n\n",
    "    \"\"\"\n",
    "    \n",
    "    patients_query += \"{context}\"\n",
    "    prompt = ChatPromptTemplate.from_messages(\n",
    "[\n",
    "    (\n",
    "    \"system\",\n",
    "    patients_query,\n",
    "     ),\n",
    "    (\"human\", \"{question}\")\n",
    "    ]\n",
    ")\n",
    "    \n",
    "    patients_chain = (\n",
    "        {\"context\": patients_retriever, \"question\": RunnablePassthrough()}\n",
    "        | prompt\n",
    "        | llm\n",
    "        | StrOutputParser()\n",
    "    )\n",
    "    \n",
    "    patients_response = patients_chain.invoke(question)\n",
    "    return patients_response"
   ],
   "outputs": [],
   "execution_count": 66
  },
  {
   "metadata": {
    "ExecuteTime": {
     "end_time": "2024-08-09T07:14:45.116692Z",
     "start_time": "2024-08-09T07:14:45.112220Z"
    }
   },
   "cell_type": "code",
   "source": [
    "def final_response(id, question):\n",
    "    inbody_response = inbody_analysis(embedding_function, llm, analysis_prompt, id, question)\n",
    "    vital_response = vital_analysis(embedding_function, llm, analysis_prompt, id, question)\n",
    "    patients_response = patients_analysis(embedding_function, llm, id, question)\n",
    "    total_analysis = f\"\"\"\n",
    "    환자 정보 :\n",
    "    {patients_response}\n",
    "    \n",
    "    inbody 분석 : \n",
    "    {inbody_response}\n",
    "    \n",
    "    vital 분석 : \n",
    "    {vital_response}\n",
    "    \"\"\"\n",
    "    \n",
    "    final_query = f\"\"\"\n",
    "    You are a professional doctor. Based on the following context, provide a detailed analysis and comprehensive advice regarding the patient's condition. Only include the sections \"종합 분석\" and \"종합적인 조언\" in your response. Do not include headings or introductory/concluding sentences. Answer questions using only the provided context. If you do not know the answer, simply state that you do not know; do not speculate or make up information.:\\n\\n{total_analysis}\"\"\"\n",
    "    \n",
    "    final_prompt = ChatPromptTemplate.from_messages([\n",
    "        (\"system\",\n",
    "         final_query         \n",
    "         ),\n",
    "        (\"human\", \"{question}\")\n",
    "    ])\n",
    "    final_chain = (\n",
    "        {\"question\": RunnablePassthrough()}\n",
    "        | final_prompt\n",
    "        | llm\n",
    "        | StrOutputParser()\n",
    "    )\n",
    "    \n",
    "    response = final_chain.invoke(question)\n",
    "    return response"
   ],
   "outputs": [],
   "execution_count": 67
  },
  {
   "metadata": {
    "ExecuteTime": {
     "end_time": "2024-08-09T07:15:07.917579Z",
     "start_time": "2024-08-09T07:14:46.388798Z"
    }
   },
   "cell_type": "code",
   "source": "print(final_response('0','건강정보에 대한 종합적인 소견을 말해'))",
   "outputs": [
    {
     "name": "stdout",
     "output_type": "stream",
     "text": [
      "0에 대한 인바디 정보 분석 중...\n",
      "0에 대한 바이탈 정보 분석 중...\n",
      "0에 대한 환자 정보 분석 중...\n",
      "종합 분석:\n",
      "2024년 6월 30일과 2024년 7월 17일의 두 차례에 걸친 인바디 검사 결과를 비교해보면, 전반적으로 체성분의 변화가 미미하지만 긍정적인 방향으로 진행되고 있음을 알 수 있습니다. 체지방량은 18.2kg에서 17.5kg으로 감소하였고, 체지방률도 27.7%에서 27.1%로 감소하였습니다. 이는 체지방이 줄어들고 있음을 의미합니다. 또한, 체질량지수(BMI)도 22.7에서 22.4로 약간 감소하였습니다. 골격근량은 25.9kg에서 25.7kg으로 약간 감소하였으나, 이는 큰 변화는 아닙니다. 내장지방수치는 두 번 모두 7로 동일하게 유지되고 있습니다.\n",
      "\n",
      "환자의 혈압, 체중, 혈당, 맥박, 체온 등의 주요 건강 지표를 분석한 결과, 전반적으로 안정적인 상태를 유지하고 있는 것으로 보입니다. 혈압은 수축기 혈압(SBP)과 이완기 혈압(DBP) 모두 정상 범위 내에 있으며, 큰 변동 없이 일정하게 유지되고 있습니다. 체중은 약간의 변동이 있지만 큰 변화는 없으며, 이는 일상적인 체중 변동으로 볼 수 있습니다. 혈당 수치는 대부분 정상 범위에 속하지만, 2024년 6월 30일에 측정된 혈당 수치가 121로 약간 높게 나타났습니다. 맥박과 체온 역시 정상 범위 내에 있으며, 산소포화도(SPO2)도 양호한 상태를 유지하고 있습니다.\n",
      "\n",
      "종합적인 조언:\n",
      "현재 체성분의 변화는 긍정적인 방향으로 진행되고 있습니다. 체지방량과 체지방률이 감소하고 있는 것은 좋은 신호입니다. 하지만 골격근량이 약간 감소한 점은 주의가 필요합니다. 근육량을 유지하거나 증가시키기 위해서는 규칙적인 근력 운동과 충분한 단백질 섭취가 중요합니다. 내장지방수치가 7로 유지되고 있는 점도 주목할 필요가 있습니다. 내장지방을 줄이기 위해서는 지속적인 유산소 운동과 건강한 식습관이 필요합니다. 전반적으로 현재의 건강 상태를 유지하면서, 근육량을 증가시키고 내장지방을 줄이는 방향으로 생활습관을 개선해 나가는 것이 좋겠습니다.\n",
      "\n",
      "현재 환자의 건강 상태는 전반적으로 양호하지만, 몇 가지 주의할 점이 있습니다. 첫째, 혈당 수치가 121로 약간 높게 나타난 점을 고려하여, 식습관과 운동을 통해 혈당 관리를 지속적으로 신경 써야 합니다. 둘째, 체중 변동이 크지 않지만, 꾸준한 체중 관리를 통해 건강한 체중을 유지하는 것이 중요합니다. 셋째, 정기적인 건강 검진을 통해 현재 상태를 지속적으로 모니터링하고, 필요시 적절한 조치를 취하는 것이 좋습니다. 마지막으로, 스트레스 관리와 충분한 수면을 통해 전반적인 건강을 유지하는 것이 중요합니다.\n"
     ]
    }
   ],
   "execution_count": 68
  },
  {
   "metadata": {
    "ExecuteTime": {
     "end_time": "2024-08-09T07:19:08.857285Z",
     "start_time": "2024-08-09T07:18:36.910915Z"
    }
   },
   "cell_type": "code",
   "source": "print(final_response('0','추천하는 운동을 알려줘'))",
   "outputs": [
    {
     "name": "stdout",
     "output_type": "stream",
     "text": [
      "0에 대한 인바디 정보 분석 중...\n",
      "0에 대한 바이탈 정보 분석 중...\n",
      "0에 대한 환자 정보 분석 중...\n",
      "종합 분석:\n",
      "환자의 체성분 분석 결과를 보면, 체지방량과 체지방률이 약간 높은 편입니다. 특히, 내장지방 수준이 7로 나타나고 있어, 내장지방을 줄이는 것이 중요합니다. 근육량은 적절한 수준을 유지하고 있지만, 체지방률을 낮추기 위해 유산소 운동과 근력 운동을 병행하는 것이 좋습니다.\n",
      "\n",
      "환자의 혈압, 체온, 체중, 혈당 수치, 맥박 등 여러 가지 건강 지표를 종합적으로 분석한 결과, 전반적으로 건강 상태는 양호한 편입니다. 혈압은 정상 범위 내에 있으며, 체중도 큰 변동 없이 안정적으로 유지되고 있습니다. 혈당 수치는 다소 변동이 있지만, 대체로 정상 범위에 가깝습니다. 맥박과 산소포화도 역시 정상 범위에 있습니다.\n",
      "\n",
      "종합적인 조언:\n",
      "1. 유산소 운동: 체지방을 줄이기 위해 주 3-5회, 30-60분 정도의 유산소 운동을 추천합니다. 걷기, 조깅, 자전거 타기, 수영 등이 효과적입니다. 이는 심혈관 건강을 유지하고 혈압을 안정시키는 데 도움이 됩니다.\n",
      "\n",
      "2. 근력 운동: 근육량을 유지하고 증가시키기 위해 주 2-3회, 전신 근력 운동을 추천합니다. 스쿼트, 런지, 푸시업, 덤벨 리프팅 등의 운동을 포함시켜 보세요. 근력 운동은 근육량을 유지하고 대사율을 높이는 데 도움이 됩니다.\n",
      "\n",
      "3. 코어 운동: 허리와 복부의 근력을 강화하기 위해 플랭크, 브릿지 등의 코어 운동을 추가하는 것이 좋습니다.\n",
      "\n",
      "4. 유연성 운동: 요가나 스트레칭 운동을 통해 유연성을 유지하고 근육의 긴장을 완화시킬 수 있습니다. 이는 부상 예방과 전반적인 신체 균형을 유지하는 데 도움이 됩니다.\n",
      "\n",
      "5. 균형 운동: 균형 감각을 향상시키기 위해 태극권이나 특정 균형 운동을 포함시키는 것도 좋습니다. 이는 특히 나이가 들면서 발생할 수 있는 낙상 위험을 줄이는 데 도움이 됩니다.\n",
      "\n",
      "6. 스트레칭: 운동 후에는 충분한 스트레칭을 통해 근육의 유연성을 유지하고 부상을 예방하세요.\n",
      "\n",
      "7. 식이 조절: 균형 잡힌 식단을 유지하며, 특히 단백질 섭취를 늘려 근육량을 유지하고 증가시키는 것이 중요합니다. 고단백 저지방 식품을 선택하세요.\n",
      "\n",
      "이러한 운동과 식이 조절을 통해 체지방률을 낮추고, 건강한 체성분을 유지할 수 있을 것입니다.\n"
     ]
    }
   ],
   "execution_count": 69
  },
  {
   "metadata": {
    "ExecuteTime": {
     "end_time": "2024-08-09T07:19:39.383760Z",
     "start_time": "2024-08-09T07:19:08.858318Z"
    }
   },
   "cell_type": "code",
   "source": "print(final_response('0','추천하는 식단들을 설명해'))",
   "outputs": [
    {
     "name": "stdout",
     "output_type": "stream",
     "text": [
      "0에 대한 인바디 정보 분석 중...\n",
      "0에 대한 바이탈 정보 분석 중...\n",
      "0에 대한 환자 정보 분석 중...\n",
      "종합 분석:\n",
      "환자의 혈압, 체온, 체중, 혈당 수치, 맥박 등 여러 가지 건강 지표를 종합적으로 분석한 결과, 전반적으로 건강 상태는 양호한 편입니다. 혈압은 정상 범위 내에 있으며, 체중도 큰 변동 없이 안정적으로 유지되고 있습니다. 혈당 수치는 다소 변동이 있지만, 대체로 정상 범위에 가깝습니다. 산소포화도와 체온도 정상 범위 내에 있습니다.\n",
      "\n",
      "종합적인 조언:\n",
      "1. **균형 잡힌 식단**: 다양한 영양소를 골고루 섭취할 수 있는 식단을 유지하는 것이 중요합니다. 채소, 과일, 단백질, 건강한 지방, 그리고 복합 탄수화물을 포함한 식단을 추천합니다.\n",
      "   - **채소와 과일**: 브로콜리, 시금치, 당근, 토마토, 사과, 베리류 등 다양한 색상의 채소와 과일을 섭취하세요.\n",
      "   - **단백질**: 닭고기, 생선, 두부, 콩류, 달걀 등 다양한 단백질원을 포함하세요.\n",
      "   - **건강한 지방**: 아보카도, 올리브 오일, 견과류, 씨앗류 등 건강한 지방을 섭취하세요.\n",
      "   - **복합 탄수화물**: 현미, 귀리, 퀴노아, 통밀빵 등 복합 탄수화물을 선택하세요.\n",
      "\n",
      "2. **혈당 관리**: 혈당 수치가 다소 변동이 있으므로, 혈당 지수가 낮은 음식을 선택하는 것이 좋습니다. 정제된 탄수화물보다는 통곡물, 채소, 과일 등을 섭취하세요.\n",
      "   - **낮은 혈당 지수 음식**: 귀리, 퀴노아, 보리, 콩류, 녹색 잎채소, 베리류 등을 포함하세요.\n",
      "   - **피해야 할 음식**: 흰 빵, 흰 쌀, 설탕이 많이 들어간 음식은 피하세요.\n",
      "\n",
      "3. **수분 섭취**: 충분한 수분 섭취는 전반적인 건강에 매우 중요합니다. 하루에 최소 8잔의 물을 마시는 것을 권장합니다.\n",
      "   - **수분 섭취 방법**: 물, 허브티, 무가당 음료 등을 통해 수분을 보충하세요.\n",
      "\n",
      "4. **규칙적인 운동**: 규칙적인 운동은 혈압과 혈당을 안정시키는 데 도움이 됩니다. 주 3-4회, 30분 이상의 유산소 운동과 근력 운동을 병행하세요.\n",
      "   - **유산소 운동**: 걷기, 조깅, 자전거 타기, 수영 등을 추천합니다.\n",
      "   - **근력 운동**: 가벼운 덤벨 운동, 요가, 필라테스 등을 포함하세요.\n",
      "\n",
      "5. **스트레스 관리**: 스트레스는 혈압과 혈당에 영향을 미칠 수 있으므로, 명상, 요가, 취미 생활 등을 통해 스트레스를 관리하는 것이 좋습니다.\n",
      "   - **스트레스 관리 방법**: 명상, 요가, 독서, 음악 감상, 취미 활동 등을 통해 스트레스를 줄이세요.\n",
      "\n",
      "6. **정기적인 건강 검진**: 정기적인 건강 검진을 통해 현재 상태를 지속적으로 모니터링하고, 필요 시 조기에 대응할 수 있도록 하세요.\n",
      "   - **건강 검진 항목**: 혈압, 혈당, 콜레스테롤, 체중, 비타민 D 수치 등을 정기적으로 체크하세요.\n"
     ]
    }
   ],
   "execution_count": 70
  },
  {
   "metadata": {},
   "cell_type": "code",
   "outputs": [],
   "execution_count": null,
   "source": ""
  }
 ]
}

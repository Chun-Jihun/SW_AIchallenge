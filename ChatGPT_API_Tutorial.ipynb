{
 "nbformat": 4,
 "nbformat_minor": 0,
 "metadata": {
  "colab": {
   "provenance": []
  },
  "kernelspec": {
   "name": "python3",
   "display_name": "Python 3 (ipykernel)",
   "language": "python"
  },
  "language_info": {
   "name": "python"
  }
 },
 "cells": [
  {
   "cell_type": "code",
   "metadata": {
    "id": "5Wu3vdgtavry",
    "ExecuteTime": {
     "end_time": "2024-08-08T09:30:57.763698Z",
     "start_time": "2024-08-08T09:30:57.759711Z"
    }
   },
   "source": [
    "#!pip install openai==0.28\n",
    "#!pip install python-dotenv"
   ],
   "outputs": [],
   "execution_count": 4
  },
  {
   "cell_type": "code",
   "source": [
    "import openai\n",
    "import os\n",
    "import pandas as pd\n",
    "import time\n",
    "from dotenv import load_dotenv\n",
    "from langchain_core.prompts import ChatPromptTemplate\n",
    "from langchain_core.output_parsers import StrOutputParser\n",
    "from langchain_core.runnables import RunnablePassthrough\n",
    "from langchain.vectorstores import FAISS\n",
    "from langchain_community.document_loaders.csv_loader import CSVLoader\n",
    "from langchain_openai import ChatOpenAI\n",
    "from langchain_openai import OpenAIEmbeddings\n",
    "\n",
    "load_dotenv()\n",
    "OPENAI_API_KEY = os.getenv('OPENAI_API_KEY')"
   ],
   "metadata": {
    "id": "EgOaniCiayes",
    "ExecuteTime": {
     "end_time": "2024-08-08T09:30:57.779664Z",
     "start_time": "2024-08-08T09:30:57.764695Z"
    }
   },
   "outputs": [],
   "execution_count": 5
  },
  {
   "metadata": {
    "ExecuteTime": {
     "end_time": "2024-08-08T09:30:58.571978Z",
     "start_time": "2024-08-08T09:30:57.780661Z"
    }
   },
   "cell_type": "code",
   "source": [
    "embedding_function = OpenAIEmbeddings()\n",
    "\n",
    "# Create the language model\n",
    "llm = ChatOpenAI(model='gpt-4o', temperature=0.0)\n",
    "\n",
    "analysis_prompt = ChatPromptTemplate.from_messages(\n",
    "[\n",
    "    (\n",
    "    \"system\",\n",
    "    \"\"\"\n",
    "    You are a professional doctor. Based on the following context, provide a detailed analysis and comprehensive advice regarding the patient's condition. Only include the sections \"종합 분석\" and \"종합적인 조언\" in your response. Do not include headings or introductory/concluding sentences. Answer questions using only the provided context. If you do not know the answer, simply state that you do not know; do not speculate or make up information.:\\n\\n{context}\"\n",
    "     \"\"\",\n",
    "     ),\n",
    "    (\"human\", \"{question}\")\n",
    "    ]\n",
    ")"
   ],
   "outputs": [],
   "execution_count": 6
  },
  {
   "metadata": {
    "ExecuteTime": {
     "end_time": "2024-08-08T09:30:58.587475Z",
     "start_time": "2024-08-08T09:30:58.572503Z"
    }
   },
   "cell_type": "code",
   "source": [
    "def inbody_analysis(embedding_function, llm, prompt, id):\n",
    "    inbody_dataloader = CSVLoader(file_path='./data/inbody.csv', csv_args={\"delimiter\": '\\n'})\n",
    "    inbody_data = inbody_dataloader.load()\n",
    "    #벡터스토어 생성\n",
    "    inbody_vectorstore = FAISS.from_documents(inbody_data, embedding_function)\n",
    "    #retriever\n",
    "    inbody_retriever = inbody_vectorstore.as_retriever()\n",
    "    \n",
    "    inbody_chain = (\n",
    "        {\"context\": inbody_retriever, \"question\": RunnablePassthrough()}\n",
    "        | prompt\n",
    "        | llm\n",
    "        | StrOutputParser()\n",
    "    )\n",
    "    \n",
    "    question = f\"id가 {id}인 환자에 대해 설명해\"\n",
    "    inbody_response = inbody_chain.invoke(question)\n",
    "    return inbody_response"
   ],
   "outputs": [],
   "execution_count": 7
  },
  {
   "metadata": {
    "ExecuteTime": {
     "end_time": "2024-08-08T09:30:58.603506Z",
     "start_time": "2024-08-08T09:30:58.587734Z"
    }
   },
   "cell_type": "code",
   "source": [
    "def vital_analysis(embedding_function, llm, prompt, id):\n",
    "    vital_dataloader = CSVLoader(file_path='./data/vital.csv', csv_args={\"delimiter\": '\\n'})\n",
    "    vital_data = vital_dataloader.load()\n",
    "    #벡터스토어 생성\n",
    "    vital_vectorstore = FAISS.from_documents(vital_data, embedding_function)\n",
    "    #retriever\n",
    "    vital_retriever = vital_vectorstore.as_retriever()\n",
    "    \n",
    "    vital_chain = (\n",
    "        {\"context\": vital_retriever, \"question\": RunnablePassthrough()}\n",
    "        | prompt\n",
    "        | llm\n",
    "        | StrOutputParser()\n",
    "    )\n",
    "    \n",
    "    question = f\"id가 {id}인 환자에 대해 설명해\"\n",
    "    vital_response = vital_chain.invoke(question)\n",
    "    return vital_response"
   ],
   "outputs": [],
   "execution_count": 8
  },
  {
   "metadata": {
    "ExecuteTime": {
     "end_time": "2024-08-08T09:40:37.205616Z",
     "start_time": "2024-08-08T09:40:37.198639Z"
    }
   },
   "cell_type": "code",
   "source": [
    "def final_response(id):\n",
    "    inbody_response = inbody_analysis(embedding_function, llm, analysis_prompt, id)\n",
    "    vital_response = vital_analysis(embedding_function, llm, analysis_prompt, id)\n",
    "    total_analysis = f\"\"\"\n",
    "    inbody 분석 : \n",
    "    {inbody_response}\n",
    "    \n",
    "    vital 분석 : \n",
    "    {vital_response}\n",
    "    \"\"\"\n",
    "    \n",
    "    final_query = f\"\"\"\n",
    "    You are a professional doctor. Based on the following context, provide a detailed analysis and comprehensive advice regarding the patient's condition. Only include the sections \"종합 분석\" and \"종합적인 조언\" in your response. Do not include headings or introductory/concluding sentences. Answer questions using only the provided context. If you do not know the answer, simply state that you do not know; do not speculate or make up information.:\\n\\n{total_analysis}\"\"\"\n",
    "    \n",
    "    final_prompt = ChatPromptTemplate.from_messages([\n",
    "        (\"system\",\n",
    "         final_query         \n",
    "         ),\n",
    "        (\"human\", \"{question}\")\n",
    "    ])\n",
    "    final_chain = (\n",
    "        {\"question\": RunnablePassthrough()}\n",
    "        | final_prompt\n",
    "        | llm\n",
    "        | StrOutputParser()\n",
    "    )\n",
    "    \n",
    "    question = f\"id가 {id}인 환자에 대해 종합적인 건강상태를 분석해\"\n",
    "    response = final_chain.invoke(question)\n",
    "    return response"
   ],
   "outputs": [],
   "execution_count": 15
  },
  {
   "metadata": {
    "ExecuteTime": {
     "end_time": "2024-08-08T09:41:10.018785Z",
     "start_time": "2024-08-08T09:40:37.613987Z"
    }
   },
   "cell_type": "code",
   "source": "print(final_response(0))",
   "outputs": [
    {
     "name": "stdout",
     "output_type": "stream",
     "text": [
      "종합 분석:\n",
      "id가 0인 환자의 데이터를 분석한 결과, 2024년 6월 30일과 2024년 7월 17일 두 차례에 걸쳐 측정된 신체 구성 요소를 확인할 수 있습니다. 첫 번째 측정에서는 체지방량이 18.2kg, 총 체수분이 34.7kg, 제지방량이 47.3kg, 골격근량이 25.9kg, 연부조직 제지방량이 44.6kg, BMI가 22.7, 체지방률이 27.7%, 허리-엉덩이 비율이 0.86, 골질량이 2.73kg, 체세포량이 30.5kg, 기초대사량이 1392kcal, 내장지방 레벨이 7로 나타났습니다. 두 번째 측정에서는 체지방량이 17.5kg, 총 체수분이 34.5kg, 제지방량이 47kg, 골격근량이 25.7kg, 연부조직 제지방량이 44.3kg, BMI가 22.4, 체지방률이 27.1%, 허리-엉덩이 비율이 0.86, 골질량이 2.68kg, 체세포량이 30.3kg, 기초대사량이 1386kcal, 내장지방 레벨이 7로 나타났습니다.\n",
      "\n",
      "환자의 혈압 수치는 전반적으로 정상 범위 내에 있습니다. 수축기 혈압(sbp)은 110에서 124 mmHg 사이, 이완기 혈압(dbp)은 66에서 80 mmHg 사이로 나타났습니다. 이는 일반적으로 건강한 혈압 범위로 간주됩니다. 산소포화도(spo2)는 97%에서 99%로, 정상 범위 내에 있으며, 체온(temp)도 36.2도에서 37도 사이로 정상입니다. 체중(weight)은 64.3kg에서 65.9kg 사이로 약간의 변동이 있지만 큰 변화는 없습니다. 키(height)는 169.7cm에서 170.9cm로 일관되게 나타났습니다. 공복 혈당(glucose)은 101에서 121 mg/dL 사이로, 약간의 변동이 있지만 대체로 정상 범위 내에 있습니다. 맥박(pulse)은 66에서 80 bpm 사이로, 정상 범위 내에 있습니다.\n",
      "\n",
      "종합적인 조언:\n",
      "환자의 체지방량과 체지방률이 두 차례 측정에서 모두 약간 감소한 것으로 보입니다. 이는 긍정적인 변화로 볼 수 있으며, 지속적인 관리가 필요합니다. 체수분과 제지방량, 골격근량은 큰 변화가 없으므로 현재의 운동 및 식이 요법을 유지하는 것이 좋습니다. BMI는 정상 범위에 있으며, 허리-엉덩이 비율도 안정적입니다. 기초대사량이 약간 감소했으나 큰 차이는 아니므로 현재의 생활 습관을 유지하면서 추가적인 대사량 증가를 위해 근력 운동을 병행하는 것이 좋습니다. 내장지방 레벨이 7로 유지되고 있으므로, 내장지방 감소를 위해 지속적인 유산소 운동과 식이 조절이 필요합니다. 전반적으로 현재의 건강 상태를 유지하면서 체지방률과 내장지방을 줄이는 방향으로 관리하는 것이 바람직합니다.\n",
      "\n",
      "환자의 현재 건강 상태는 전반적으로 양호해 보입니다. 혈압, 산소포화도, 체온, 체중, 키, 공복 혈당, 맥박 모두 정상 범위 내에 있으며, 큰 이상 징후는 보이지 않습니다. 그러나 공복 혈당 수치가 약간 높을 때가 있으므로, 당뇨병의 위험을 줄이기 위해 규칙적인 운동과 건강한 식습관을 유지하는 것이 좋습니다. 또한, 정기적인 건강 검진을 통해 현재 상태를 지속적으로 모니터링하는 것이 중요합니다. 특별한 증상이 나타나지 않는 한, 현재의 생활 방식을 유지하면서 건강을 관리하는 것이 좋습니다.\n"
     ]
    }
   ],
   "execution_count": 16
  },
  {
   "metadata": {
    "ExecuteTime": {
     "end_time": "2024-08-08T09:43:18.485708Z",
     "start_time": "2024-08-08T09:42:30.734843Z"
    }
   },
   "cell_type": "code",
   "source": "print(final_response(1))",
   "outputs": [
    {
     "name": "stdout",
     "output_type": "stream",
     "text": [
      "종합 분석:\n",
      "id가 1인 환자의 데이터를 분석한 결과, 2024년 6월 12일부터 2024년 7월 17일까지의 기간 동안 체성분의 변화를 확인할 수 있습니다. 이 기간 동안 환자의 체지방량(body fat mass)은 15.2kg에서 17kg로 증가했다가 다시 16.8kg로 약간 감소했습니다. 총 체수분(total body water)은 28.3kg에서 26.7kg로 감소한 후 26.5kg로 약간 증가했습니다. 제지방량(fat-free mass)과 골격근량(skeletal muscle mass)도 비슷한 패턴을 보이며, 각각 38.6kg에서 36.4kg로, 20.8kg에서 19.5kg로 감소한 후 약간의 변동을 보였습니다. 체질량지수(BMI)는 21.1에서 22.3으로 증가한 후 22.1로 약간 감소했습니다. 체지방률(percent body fat)은 28.2%에서 31.8%로 증가한 후 유지되었습니다. 기초대사량(BMR)은 1203kcal에서 1156kcal로 감소한 후 1149kcal로 약간 더 감소했습니다. 내장지방수치(visceral fat level)는 6에서 7로 증가했습니다.\n",
      "\n",
      "환자의 혈압, 체온, 체중, 혈당, 맥박 등의 여러 가지 생체 신호를 분석한 결과, 다음과 같은 사항을 확인할 수 있습니다. 환자는 2024년 5월 2일에 항고혈압제를 복용했으며, 이후 기록된 날짜들(2024년 6월 12일, 2024년 7월 3일, 2024년 7월 15일)에는 항고혈압제를 복용하지 않았습니다. 혈압은 전반적으로 안정적인 범위 내에 있으며, 수축기 혈압(SBP)은 112-122 mmHg, 이완기 혈압(DBP)은 59-75 mmHg로 나타났습니다. 산소포화도(SpO2)는 96-98%로 정상 범위에 있습니다. 체온은 35.8-36.6도 사이로 정상 범위에 있으며, 체중은 52.6-54.9kg 사이에서 변동이 있습니다. 키는 155.3-157cm로 기록되어 있습니다. 혈당 수치는 99-122 mg/dL로 나타났으며, 맥박은 64-71 bpm 사이로 안정적입니다.\n",
      "\n",
      "종합적인 조언:\n",
      "환자의 체지방량과 체지방률이 증가하고, 제지방량과 골격근량이 감소하는 경향을 보이고 있습니다. 이는 체중 증가가 주로 지방 증가에 기인한 것으로 보이며, 근육량 감소가 동반되고 있습니다. 이러한 변화는 대사 건강에 부정적인 영향을 미칠 수 있으므로, 체지방을 줄이고 근육량을 증가시키기 위한 운동과 식이 조절이 필요합니다. 특히, 유산소 운동과 근력 운동을 병행하여 체지방을 줄이고 근육량을 늘리는 것이 중요합니다. 또한, 내장지방수치가 증가하고 있으므로, 내장지방을 줄이기 위한 식이 조절과 운동이 필요합니다. 식이 조절에서는 고단백 저지방 식단을 유지하고, 정제된 탄수화물과 당류의 섭취를 줄이는 것이 좋습니다. 정기적인 체성분 검사를 통해 변화를 모니터링하고, 필요시 전문가의 상담을 받는 것이 좋습니다.\n",
      "\n",
      "환자의 전반적인 건강 상태는 비교적 안정적입니다. 혈압, 산소포화도, 체온, 체중, 혈당, 맥박 모두 정상 범위 내에 있으며, 큰 변동이 없습니다. 다만, 항고혈압제를 복용한 2024년 5월 2일 이후로는 복용하지 않은 것으로 보입니다. 만약 환자가 고혈압 진단을 받은 상태라면, 항고혈압제 복용을 중단한 이유를 확인하고, 필요 시 복용을 재개하는 것이 중요합니다. 또한, 혈당 수치가 122 mg/dL로 다소 높게 나타난 기록이 있으므로, 당뇨병의 위험성을 고려하여 정기적인 혈당 모니터링과 식이 조절이 필요할 수 있습니다. 지속적인 건강 관리를 위해 정기적인 검진과 생활 습관 개선을 권장합니다.\n"
     ]
    }
   ],
   "execution_count": 17
  },
  {
   "metadata": {},
   "cell_type": "code",
   "outputs": [],
   "execution_count": null,
   "source": ""
  }
 ]
}

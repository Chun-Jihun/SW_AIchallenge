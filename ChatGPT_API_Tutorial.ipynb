{
 "nbformat": 4,
 "nbformat_minor": 0,
 "metadata": {
  "colab": {
   "provenance": []
  },
  "kernelspec": {
   "name": "python3",
   "display_name": "Python 3"
  },
  "language_info": {
   "name": "python"
  }
 },
 "cells": [
  {
   "cell_type": "markdown",
   "source": [
    "# ChatGPT API Tutorial\n",
    "Adapted by Uiwon Hwang from the blog post (https://docs.kanaries.net/ko/topics/ChatGPT/how-to-use-chatgpt-api-python)\n",
    "\n",
    "This tutorial is made for the Generative AI Challenge in Gangwon SW Festival. <br>\n",
    "We encourage all participants of the challenge to refer to this tutorial."
   ],
   "metadata": {
    "id": "IzbGig9ocq1q"
   }
  },
  {
   "cell_type": "markdown",
   "source": [
    "# Install package"
   ],
   "metadata": {
    "id": "vz4p1c8razRk"
   }
  },
  {
   "cell_type": "code",
   "execution_count": null,
   "metadata": {
    "id": "5Wu3vdgtavry"
   },
   "outputs": [],
   "source": [
    "!pip install openai==0.28"
   ]
  },
  {
   "cell_type": "markdown",
   "source": [
    "# Import package"
   ],
   "metadata": {
    "id": "8RpgVCPNa6h7"
   }
  },
  {
   "cell_type": "code",
   "source": [
    "import openai\n",
    "import os\n",
    "import pandas as pd\n",
    "import time"
   ],
   "metadata": {
    "id": "EgOaniCiayes"
   },
   "execution_count": null,
   "outputs": []
  },
  {
   "cell_type": "markdown",
   "source": [
    "# API key setting\n",
    "You can get API key using the following instruction:\n",
    "1. Visit https://platform.openai.com/api-keys\n",
    "2. Click on the \"+ Create new secret key\" button\n",
    "3. Click \"create secret key\"\n",
    "4. Copy and save your API key\n",
    "\n",
    "\n",
    "- Make sure to keep your API key secure\n",
    "- You should pay for ChatGPT API by visiting https://platform.openai.com/settings/organization/billing/overview and clicking on \"Add payment details\" button"
   ],
   "metadata": {
    "id": "8oUSkLOva9Id"
   }
  },
  {
   "cell_type": "markdown",
   "source": [
    "# ChatGPT response function"
   ],
   "metadata": {
    "id": "DhSvB0ApbIDU"
   }
  },
  {
   "cell_type": "code",
   "source": [
    "def get_completion(prompt, model=\"gpt-3.5-turbo\"):\n",
    "    messages = [{\"role\": \"user\", \"content\": prompt}]\n",
    "    response = openai.ChatCompletion.create(\n",
    "        model=model,\n",
    "        messages=messages,\n",
    "        temperature=0.0,\n",
    "    )\n",
    "    return response.choices[0].message[\"content\"]"
   ],
   "metadata": {
    "id": "DlCWnQqUbKEs"
   },
   "execution_count": null,
   "outputs": []
  },
  {
   "cell_type": "markdown",
   "source": [
    "# Query to API"
   ],
   "metadata": {
    "id": "hymcXgmubJym"
   }
  },
  {
   "cell_type": "code",
   "source": [
    "prompt = \"생성형 AI 챌린지 참가자들에게 인사해 줘, 매 문장 끝에 \\n을 삽입해 줘\" #\"<YOUR QUERY HERE>\"\n",
    "response = get_completion(prompt)\n",
    "print(response)"
   ],
   "metadata": {
    "id": "QpPAlI7IbOOf"
   },
   "execution_count": null,
   "outputs": []
  }
 ]
}
